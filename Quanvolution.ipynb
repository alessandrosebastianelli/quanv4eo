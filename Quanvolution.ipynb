{
 "cells": [
  {
   "cell_type": "markdown",
   "id": "59420117",
   "metadata": {},
   "source": [
    "# Quantum Convolutional Processing of the Dataset\n",
    "\n",
    "This notebook contains all the rutines to apply quantum convolution to an entire dataset. The script will:\n",
    "\n",
    "1. Load the dataset and print some statistics\n",
    "2. Create a quantum cicuit\n",
    "3. Define a quantum convolutional layer\n",
    "4. Apply the quantum convolutional layer to the entire dataset and save a new version of the dataset"
   ]
  },
  {
   "cell_type": "code",
   "execution_count": null,
   "id": "c8c30cdc",
   "metadata": {
    "tags": []
   },
   "outputs": [],
   "source": [
    "from data.datahandler import datahandler\n",
    "from data.datareader import datareader\n",
    "from layers.QConv2D import QConv2D\n",
    "from utils import test_loader\n",
    "from utils.plotter import *\n",
    "\n",
    "import matplotlib.pyplot as plt\n",
    "from tqdm.auto import tqdm\n",
    "import pennylane as qml\n",
    "import numpy as np\n",
    "import os\n",
    "\n",
    "import jax; jax.config.update('jax_platform_name', 'cpu')\n",
    "\n",
    "import warnings\n",
    "\n",
    "def fxn():\n",
    "    warnings.warn(\"deprecated\", DeprecationWarning)\n",
    "\n",
    "with warnings.catch_warnings():\n",
    "    warnings.simplefilter(\"ignore\")\n",
    "    fxn()\n",
    "\n",
    "%load_ext autoreload\n",
    "%autoreload 2\n",
    "%matplotlib inline"
   ]
  },
  {
   "cell_type": "markdown",
   "id": "d16b29b1",
   "metadata": {},
   "source": [
    "## Define Quantum Circuit \n",
    "\n",
    "The quantum circuit is used by the quantum convolutional 2D layer. The quantum circuit used in this example has a fixed structure, Ry gates at the beginning, Random Layers U and Z pauli and measurement gates at the end.\n",
    "\n",
    "```\n",
    "                                                   _____\n",
    "                                    |0> ---[Ry]---|     |---[Z]---[m]\n",
    "                                    |0> ---[Ry]---|     |---[Z]---[m]\n",
    "                                    |0> ---[Ry]---|  U  |---[Z]---[m]\n",
    "                                    |0> ---[Ry]---|     |\n",
    "                                    |0> ..........|_____|\n",
    "              \n",
    "```\n",
    "\n",
    "It is defined by 6 parameters:\n",
    "\n",
    "1. *QUBITS*: is the number of qubits used, the number is related to the kernel size of convolution. The relation between these two variables is the following:\n",
    "$$QUBITS \\geq KERNEL\\_SIZE^2$$\n",
    "\n",
    "2. *KERNEL_SIZE*: defines the size of the kernel and the number of RY gates\n",
    "3. *FILTERS*: defines the number of filters produced by the Quantum Convolution\n",
    "4. *N_LAYERS*: defines the number of U random layers\n",
    "5. *STRIDE*: defines the stride used for the convolution\n",
    "6. *NUM_JOBS*: defines the number of workers for Quantum Convolutional parallelization"
   ]
  },
  {
   "cell_type": "code",
   "execution_count": null,
   "id": "7693676c",
   "metadata": {
    "tags": []
   },
   "outputs": [],
   "source": [
    "QUBITS      = 16\n",
    "KERNEL_SIZE = 2\n",
    "FILTERS     = 16\n",
    "N_LAYERS    = 1\n",
    "STRIDE      = 1\n",
    "NUM_JOBS    = 16\n",
    "SEED        = 1"
   ]
  },
  {
   "cell_type": "markdown",
   "id": "3a616d8d",
   "metadata": {},
   "source": [
    "## Quantum Convolutional 2D/3D layer\n",
    "\n",
    "The quantum convolutional 2D/3D layer, uses the quantum circuit define above. As for classical convolution a chuck of the input image of kernel_size dimensions is processed by the quantum circuit that then produces the feature maps. Then as for the classical convolution stride by stride all the chucks of the image are processed.\n",
    "\n",
    "```\n",
    "_____________________________________________ Iteration 1 _____________________________________________\n",
    "\n",
    "                                                                                         Output\n",
    "                                                                                     ______________\n",
    "                                                                                    | m3 |    |    |\n",
    "                                                                                  ______________  _|\n",
    "        Input Image                                                              | m2 |    |    |  |\n",
    "    ___________________                                                        ______________  _| _|\n",
    "   | x1 | x3 |    |    |                                                    __| m1 |    |    |  |  |\n",
    "   |_|__|_|__|____|____|                                                   |  |____|____|____| _| _|\n",
    "   | x2 | x4 |    |    |                                                   |  |    |    |    |  |\n",
    "   |_|__|_|__|____|____|                                                   |  |____|____|____| _|\n",
    "   | |  | |  |    |    |                                                   |  |    |    |    | \n",
    "   |_|__|_|__|____|____|                                                   |  |____|____|____|                     \n",
    "   | |  | |  |    |    |                                                   | \n",
    "   |_|__|_|__|____|____|                                                   | \n",
    "     |    |                               Quantum Circuit                  |\n",
    "     |____|_________________________                            ___________|\n",
    "                                    |         _____            |\n",
    "                           |0> ---[Ry(x1)]---|     |---[Z]---[m1]\n",
    "                           |0> ---[Ry(x2)]---|     |---[Z]---[m2]\n",
    "                           |0> ---[Ry(x3)]---|  U  |---[Z]---[m3]\n",
    "                           |0> ---[Ry(x4)]---|_____|\n",
    "\n",
    "\n",
    "_____________________________________________ Iteration 2 _____________________________________________\n",
    "\n",
    "                                                                                         Output\n",
    "                                                                                     ______________\n",
    "                                                                                    | m3 | m6 |    |\n",
    "                                                                                  ______________  _|\n",
    "        Input Image                                                              | m2 | m5 |    |  |\n",
    "    ___________________                                                        ______________  _| _|\n",
    "   |    | x3 | x5 |    |                                                    __| m1 | m4 |    |  |  |\n",
    "   |____|_|__|_|__|____|                                                   |  |____|____|____| _| _|\n",
    "   |    | x4 | x6 |    |                                                   |  |    |    |    |  |\n",
    "   |____|_|__|_|__|____|                                                   |  |____|____|____| _|\n",
    "   |    | |  | |  |    |                                                   |  |    |    |    | \n",
    "   |____|_|__|_|__|____|                                                   |  |____|____|____|                     \n",
    "   |    | |  | |  |    |                                                   | \n",
    "   |____|_|__|_|__|____|                                                   | \n",
    "          |    |                          Quantum Circuit                  |\n",
    "          |____|____________________                            ___________|\n",
    "                                    |         _____            |\n",
    "                           |0> ---[Ry(x3)]---|     |---[Z]---[m4]\n",
    "                           |0> ---[Ry(x4)]---|     |---[Z]---[m5]\n",
    "                           |0> ---[Ry(x5)]---|  U  |---[Z]---[m6]\n",
    "                           |0> ---[Ry(x6)]---|_____|\n",
    "              \n",
    "\n",
    "\n",
    "```"
   ]
  },
  {
   "cell_type": "code",
   "execution_count": null,
   "id": "92820900",
   "metadata": {
    "tags": []
   },
   "outputs": [],
   "source": [
    "circuit = 'rxyz' # or rx or rz or rxyz\n",
    "\n",
    "conv1 = QConv2D(\n",
    "    QUBITS,\n",
    "    FILTERS, \n",
    "    KERNEL_SIZE, \n",
    "    STRIDE, \n",
    "    parallelize = NUM_JOBS,\n",
    "    circuit = circuit\n",
    ")"
   ]
  },
  {
   "cell_type": "markdown",
   "id": "e68ae531-d840-4325-a94c-4c45fea7ede8",
   "metadata": {},
   "source": [
    "## Load image"
   ]
  },
  {
   "cell_type": "code",
   "execution_count": null,
   "id": "c339471e-5df1-4a0d-9498-2e56ace8fd62",
   "metadata": {
    "tags": []
   },
   "outputs": [],
   "source": [
    "#path='datasets/test/s1.png'\n",
    "path = '/Users/asebastianelli/Desktop/quanvolutional4eo/datasets/EuroSAT/River/River_1007.jpg'\n",
    "img1 = plt.imread(path)[:,:,:3]\n",
    "if img1.max() > 100: img1 = img1/255.0"
   ]
  },
  {
   "cell_type": "code",
   "execution_count": null,
   "id": "980fb3d6-8453-4707-adc7-21a591a69544",
   "metadata": {
    "tags": []
   },
   "outputs": [],
   "source": [
    "img1.shape"
   ]
  },
  {
   "cell_type": "code",
   "execution_count": null,
   "id": "8f34db36-2909-4d09-9760-356b8019ee77",
   "metadata": {
    "scrolled": true,
    "tags": []
   },
   "outputs": [],
   "source": [
    "out1 = conv1.apply(img1, verbose = False)"
   ]
  },
  {
   "cell_type": "code",
   "execution_count": null,
   "id": "705176c6-a3f5-49f7-9b84-ee679a65ccbf",
   "metadata": {
    "tags": []
   },
   "outputs": [],
   "source": [
    "fig, ax = plt.subplots(nrows = 1, ncols = 1, figsize = ((FILTERS+1)*11,10))\n",
    "\n",
    "img = img1.copy()\n",
    "for i in range(FILTERS):\n",
    "    c = out1[:,:,i]\n",
    "    c = (c+1)*0.5\n",
    "    a = np.pad(c, ((0, img1.shape[0]-c.shape[0]), (0, img1.shape[1]-c.shape[1])), 'constant', constant_values=0) #np.pad(c, 2)#int(1+np.abs(img1.shape[0]-out1.shape[0])//2))\n",
    "    b = np.repeat(a[:,:,None], 3, axis = 2)\n",
    "\n",
    "    img = np.concatenate((img, np.ones((img1.shape[0], 1, 3)), b), axis = 1)\n",
    "    \n",
    "\n",
    "ax.imshow(img, vmin = 0, vmax = 1)\n",
    "ax.axis(False)\n",
    "fig.tight_layout()\n",
    "#plt.savefig('results/q{}-k{}-s{}.png'.format(QUBITS, KERNEL_SIZE,STRIDE))"
   ]
  },
  {
   "cell_type": "code",
   "execution_count": null,
   "id": "99139289-870e-4cc2-a903-311992e54a10",
   "metadata": {},
   "outputs": [],
   "source": []
  }
 ],
 "metadata": {
  "kernelspec": {
   "display_name": "Python 3 (ipykernel)",
   "language": "python",
   "name": "python3"
  },
  "language_info": {
   "codemirror_mode": {
    "name": "ipython",
    "version": 3
   },
   "file_extension": ".py",
   "mimetype": "text/x-python",
   "name": "python",
   "nbconvert_exporter": "python",
   "pygments_lexer": "ipython3",
   "version": "3.10.9"
  }
 },
 "nbformat": 4,
 "nbformat_minor": 5
}
