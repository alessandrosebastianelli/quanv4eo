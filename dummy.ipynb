{
  "cells": [
    {
      "cell_type": "code",
      "execution_count": null,
      "id": "97216e81",
      "metadata": {
        "tags": [],
        "id": "97216e81"
      },
      "outputs": [],
      "source": [
        "!pip install 'jax == 0.4.3' \n",
        "!pip install 'jaxlib == 0.4.3'\n",
        "#!pip install jax\n",
        "#!pip install jaxlib\n",
        "#!pip install 'pennylane==0.29.0'\n",
        "!pip install pennylane #version: 0.29.1 (latest stable release)"
      ]
    },
    {
      "cell_type": "code",
      "source": [
        "import matplotlib.pyplot as plt\n",
        "from tqdm.auto import tqdm\n",
        "import jax.numpy as jnp\n",
        "import pennylane as qml\n",
        "import numpy as np\n",
        "import time\n",
        "import jax\n",
        "from jax.config import config \n",
        "config.update(\"jax_enable_x64\", True)"
      ],
      "metadata": {
        "id": "tf_uV6SEeI3o"
      },
      "execution_count": null,
      "outputs": [],
      "id": "tf_uV6SEeI3o"
    },
    {
      "cell_type": "code",
      "execution_count": null,
      "id": "a069740a",
      "metadata": {
        "tags": [],
        "id": "a069740a"
      },
      "outputs": [],
      "source": [
        "@jax.jit\n",
        "def circuit(key, param):\n",
        "    # Notice how the device construction now happens within the jitted method.\n",
        "    # Also note the added '.jax' to the device path.\n",
        "    dev = qml.device(\"default.qubit.jax\", wires=2, shots=None, prng_key=key)\n",
        "\n",
        "    # Now we can create our qnode within the circuit function.\n",
        "    @qml.qnode(dev, interface=\"jax\", diff_method='backprop')\n",
        "    def my_circuit():\n",
        "        qml.RX(param, wires=0)\n",
        "        qml.RX(param, wires=1)\n",
        "        qml.CNOT(wires=[0, 1])\n",
        "        #print([qml.expval(qml.PauliZ(j)) for j in range(2)])\n",
        "        return [qml.expval(qml.PauliZ(j)) for j in range(2)]\n",
        "    return my_circuit()"
      ]
    },
    {
      "cell_type": "code",
      "execution_count": null,
      "id": "6ce3757a",
      "metadata": {
        "tags": [],
        "colab": {
          "base_uri": "https://localhost:8080/",
          "height": 66,
          "referenced_widgets": [
            "8c6f4f4b882c4d7fb9a574b6b8b89e6a",
            "875d89e804354bc7aab90ecc4441e203",
            "9dcede1f12ac48cfa6360ed844db882e",
            "cab40c0ca8aa4b008a0ed3d032005ddf",
            "2e57862aa7a04047b78dad1601042fbd",
            "8a3f1582161e48188011e68f3b54292b",
            "3ae695c5c1c54b1985bb08990a482b96",
            "a18fb725260d40f691578af20f2fce3b",
            "d231ff1190a74b27b36997f7e4551945",
            "b6a39de23da8450985bee74d254a8ce8",
            "1c2b20b98d41478198cbf94cba32bf22"
          ]
        },
        "id": "6ce3757a",
        "outputId": "41c7144e-4753-4dc4-dfbb-1e11de4e3174"
      },
      "outputs": [
        {
          "output_type": "stream",
          "name": "stdout",
          "text": [
            "key1 = [0 0]\n"
          ]
        },
        {
          "output_type": "display_data",
          "data": {
            "text/plain": [
              "  0%|          | 0/65536 [00:00<?, ?it/s]"
            ],
            "application/vnd.jupyter.widget-view+json": {
              "version_major": 2,
              "version_minor": 0,
              "model_id": "8c6f4f4b882c4d7fb9a574b6b8b89e6a"
            }
          },
          "metadata": {}
        }
      ],
      "source": [
        "key1 = jax.random.PRNGKey(0)\n",
        "\n",
        "print('key1 =', key1)\n",
        "st = time.time()\n",
        "times = [st]\n",
        "for i in tqdm(range(16*64*64)): #27000*64*64)):\n",
        "    _ = circuit(key1, jnp.pi/2)\n",
        "    times.append(time.time())\n",
        "    \n",
        "et = time.time()    \n"
      ]
    },
    {
      "cell_type": "code",
      "execution_count": null,
      "id": "e0ca546b",
      "metadata": {
        "tags": [],
        "id": "e0ca546b"
      },
      "outputs": [],
      "source": [
        "a = circuit(key1, jnp.array([jnp.pi/2,jnp.pi/2]))"
      ]
    },
    {
      "cell_type": "code",
      "execution_count": null,
      "id": "69f11021",
      "metadata": {
        "tags": [],
        "id": "69f11021"
      },
      "outputs": [],
      "source": [
        "dx = times[1] - times[0]\n",
        "dtimes = np.gradient(np.array(times), dx)"
      ]
    },
    {
      "cell_type": "code",
      "execution_count": null,
      "id": "cf49d9e9",
      "metadata": {
        "id": "cf49d9e9"
      },
      "outputs": [],
      "source": [
        "def circuit2(param):\n",
        "    dev = qml.device(\"default.qubit\", wires=2, shots=10)\n",
        "\n",
        "    # Now we can create our qnode within the circuit function.    \n",
        "    def my_circuit():\n",
        "        qml.RX(param, wires=0)\n",
        "        qml.CNOT(wires=[0, 1])\n",
        "        return qml.sample(qml.PauliZ(0))\n",
        "    return my_circuit()"
      ]
    },
    {
      "cell_type": "code",
      "execution_count": null,
      "id": "cc4db6ac",
      "metadata": {
        "id": "cc4db6ac",
        "colab": {
          "base_uri": "https://localhost:8080/",
          "height": 49,
          "referenced_widgets": [
            "968e4bf9749641f28784b1901b60ace4",
            "7bc9e07e5c5341738684f8bca1946844",
            "7c2f241f1f954675b98faa66000fcdc4",
            "857c6af4fc844407bedf05985f6d6c12",
            "a5bcd83c5426447d98514da2708a1a33",
            "b12ee403bad549dea1859dcaaf1c70c9",
            "4d9531ac4f274dbbbf643b808a7e7378",
            "e8583934646c43b783b57e6e1a3fdb7b",
            "2cf2509e75104798b28916ec4ee1b156",
            "2aa9bf24119c492aa677e596b8c9752a",
            "84612ec420ef4ec988a7d5f0d8587989"
          ]
        },
        "outputId": "3d40d3eb-d2be-4531-f6a3-c8bcfa724d2b"
      },
      "outputs": [
        {
          "output_type": "display_data",
          "data": {
            "text/plain": [
              "  0%|          | 0/65536 [00:00<?, ?it/s]"
            ],
            "application/vnd.jupyter.widget-view+json": {
              "version_major": 2,
              "version_minor": 0,
              "model_id": "968e4bf9749641f28784b1901b60ace4"
            }
          },
          "metadata": {}
        }
      ],
      "source": [
        "st = time.time()\n",
        "times2 = [st]\n",
        "for i in tqdm(range(256*256)):\n",
        "    _ = circuit2(np.pi/2)\n",
        "    times2.append(time.time())\n",
        "    \n",
        "et = time.time()    \n"
      ]
    },
    {
      "cell_type": "code",
      "execution_count": null,
      "id": "dfe95641",
      "metadata": {
        "tags": [],
        "id": "dfe95641"
      },
      "outputs": [],
      "source": [
        "dx = times2[1] - times2[0]\n",
        "dtimes2 = np.gradient(np.array(times2), dx)"
      ]
    },
    {
      "cell_type": "code",
      "execution_count": null,
      "id": "1b774645",
      "metadata": {
        "tags": [],
        "id": "1b774645",
        "colab": {
          "base_uri": "https://localhost:8080/",
          "height": 286
        },
        "outputId": "6ed828c2-af1e-4a4d-bea4-27b205b94f4b"
      },
      "outputs": [
        {
          "output_type": "execute_result",
          "data": {
            "text/plain": [
              "(-0.10829308081913813, 0.1)"
            ]
          },
          "metadata": {},
          "execution_count": 15
        },
        {
          "output_type": "display_data",
          "data": {
            "text/plain": [
              "<Figure size 432x288 with 1 Axes>"
            ],
            "image/png": "[encoded data removed]"
          },
          "metadata": {
            "needs_background": "light"
          }
        }
      ],
      "source": [
        "plt.plot(dtimes)\n",
        "plt.plot(dtimes2)\n",
        "plt.xlim([100, None])\n",
        "plt.ylim([None, 0.1])"
      ]
    },
    {
      "cell_type": "code",
      "execution_count": null,
      "id": "b17b0406",
      "metadata": {
        "tags": [],
        "id": "b17b0406",
        "colab": {
          "base_uri": "https://localhost:8080/"
        },
        "outputId": "8ffc5ef2-4280-4b7a-b8f9-bf51e18875c1"
      },
      "outputs": [
        {
          "output_type": "stream",
          "name": "stdout",
          "text": [
            "      Jax                           No Jax                        \n",
            "Min   0.0002582526926641044         0.07329299132947976           \n",
            "Max   0.368386072584198             0.4184368978805395            \n",
            "Mean  0.00034332534205691546        0.1008631367767404            \n",
            "Std   0.0024626192893856926         0.03457404229808569           \n"
          ]
        }
      ],
      "source": [
        "print('{:<6s}{:<30s}{:<30s}'.format('','Jax','No Jax'))\n",
        "print('{:<6s}{:<30s}{:<30s}'.format('Min',  str(dtimes[200:].min()),  str(dtimes2[200:].min())))\n",
        "print('{:<6s}{:<30s}{:<30s}'.format('Max',  str(dtimes[200:].max()),  str(dtimes2[200:].max())))\n",
        "print('{:<6s}{:<30s}{:<30s}'.format('Mean', str(dtimes[200:].mean()), str(dtimes2[200:].mean())))\n",
        "print('{:<6s}{:<30s}{:<30s}'.format('Std',  str(dtimes[200:].std()),  str(dtimes2[200:].std())))"
      ]
    },
    {
      "cell_type": "code",
      "execution_count": null,
      "id": "908d33fa",
      "metadata": {
        "id": "908d33fa"
      },
      "outputs": [],
      "source": []
    }
  ],
  "metadata": {
    "kernelspec": {
      "display_name": "Python 3 (ipykernel)",
      "language": "python",
      "name": "python3"
    },
    "language_info": {
      "codemirror_mode": {
        "name": "ipython",
        "version": 3
      },
      "file_extension": ".py",
      "mimetype": "text/x-python",
      "name": "python",
      "nbconvert_exporter": "python",
      "pygments_lexer": "ipython3",
      "version": "3.9.16"
    },
    "colab": {
      "provenance": []
    },
    "widgets": {
      "application/vnd.jupyter.widget-state+json": {
        "8c6f4f4b882c4d7fb9a574b6b8b89e6a": {
          "model_module": "@jupyter-widgets/controls",
          "model_name": "HBoxModel",
          "model_module_version": "1.5.0",
          "state": {
            "_dom_classes": [],
            "_model_module": "@jupyter-widgets/controls",
            "_model_module_version": "1.5.0",
            "_model_name": "HBoxModel",
            "_view_count": null,
            "_view_module": "@jupyter-widgets/controls",
            "_view_module_version": "1.5.0",
            "_view_name": "HBoxView",
            "box_style": "",
            "children": [
              "IPY_MODEL_875d89e804354bc7aab90ecc4441e203",
              "IPY_MODEL_9dcede1f12ac48cfa6360ed844db882e",
              "IPY_MODEL_cab40c0ca8aa4b008a0ed3d032005ddf"
            ],
            "layout": "IPY_MODEL_2e57862aa7a04047b78dad1601042fbd"
          }
        },
        "875d89e804354bc7aab90ecc4441e203": {
          "model_module": "@jupyter-widgets/controls",
          "model_name": "HTMLModel",
          "model_module_version": "1.5.0",
          "state": {
            "_dom_classes": [],
            "_model_module": "@jupyter-widgets/controls",
            "_model_module_version": "1.5.0",
            "_model_name": "HTMLModel",
            "_view_count": null,
            "_view_module": "@jupyter-widgets/controls",
            "_view_module_version": "1.5.0",
            "_view_name": "HTMLView",
            "description": "",
            "description_tooltip": null,
            "layout": "IPY_MODEL_8a3f1582161e48188011e68f3b54292b",
            "placeholder": "​",
            "style": "IPY_MODEL_3ae695c5c1c54b1985bb08990a482b96",
            "value": "100%"
          }
        },
        "9dcede1f12ac48cfa6360ed844db882e": {
          "model_module": "@jupyter-widgets/controls",
          "model_name": "FloatProgressModel",
          "model_module_version": "1.5.0",
          "state": {
            "_dom_classes": [],
            "_model_module": "@jupyter-widgets/controls",
            "_model_module_version": "1.5.0",
            "_model_name": "FloatProgressModel",
            "_view_count": null,
            "_view_module": "@jupyter-widgets/controls",
            "_view_module_version": "1.5.0",
            "_view_name": "ProgressView",
            "bar_style": "success",
            "description": "",
            "description_tooltip": null,
            "layout": "IPY_MODEL_a18fb725260d40f691578af20f2fce3b",
            "max": 65536,
            "min": 0,
            "orientation": "horizontal",
            "style": "IPY_MODEL_d231ff1190a74b27b36997f7e4551945",
            "value": 65536
          }
        },
        "cab40c0ca8aa4b008a0ed3d032005ddf": {
          "model_module": "@jupyter-widgets/controls",
          "model_name": "HTMLModel",
          "model_module_version": "1.5.0",
          "state": {
            "_dom_classes": [],
            "_model_module": "@jupyter-widgets/controls",
            "_model_module_version": "1.5.0",
            "_model_name": "HTMLModel",
            "_view_count": null,
            "_view_module": "@jupyter-widgets/controls",
            "_view_module_version": "1.5.0",
            "_view_name": "HTMLView",
            "description": "",
            "description_tooltip": null,
            "layout": "IPY_MODEL_b6a39de23da8450985bee74d254a8ce8",
            "placeholder": "​",
            "style": "IPY_MODEL_1c2b20b98d41478198cbf94cba32bf22",
            "value": " 65536/65536 [00:00&lt;00:00, 94205.93it/s]"
          }
        },
        "2e57862aa7a04047b78dad1601042fbd": {
          "model_module": "@jupyter-widgets/base",
          "model_name": "LayoutModel",
          "model_module_version": "1.2.0",
          "state": {
            "_model_module": "@jupyter-widgets/base",
            "_model_module_version": "1.2.0",
            "_model_name": "LayoutModel",
            "_view_count": null,
            "_view_module": "@jupyter-widgets/base",
            "_view_module_version": "1.2.0",
            "_view_name": "LayoutView",
            "align_content": null,
            "align_items": null,
            "align_self": null,
            "border": null,
            "bottom": null,
            "display": null,
            "flex": null,
            "flex_flow": null,
            "grid_area": null,
            "grid_auto_columns": null,
            "grid_auto_flow": null,
            "grid_auto_rows": null,
            "grid_column": null,
            "grid_gap": null,
            "grid_row": null,
            "grid_template_areas": null,
            "grid_template_columns": null,
            "grid_template_rows": null,
            "height": null,
            "justify_content": null,
            "justify_items": null,
            "left": null,
            "margin": null,
            "max_height": null,
            "max_width": null,
            "min_height": null,
            "min_width": null,
            "object_fit": null,
            "object_position": null,
            "order": null,
            "overflow": null,
            "overflow_x": null,
            "overflow_y": null,
            "padding": null,
            "right": null,
            "top": null,
            "visibility": null,
            "width": null
          }
        },
        "8a3f1582161e48188011e68f3b54292b": {
          "model_module": "@jupyter-widgets/base",
          "model_name": "LayoutModel",
          "model_module_version": "1.2.0",
          "state": {
            "_model_module": "@jupyter-widgets/base",
            "_model_module_version": "1.2.0",
            "_model_name": "LayoutModel",
            "_view_count": null,
            "_view_module": "@jupyter-widgets/base",
            "_view_module_version": "1.2.0",
            "_view_name": "LayoutView",
            "align_content": null,
            "align_items": null,
            "align_self": null,
            "border": null,
            "bottom": null,
            "display": null,
            "flex": null,
            "flex_flow": null,
            "grid_area": null,
            "grid_auto_columns": null,
            "grid_auto_flow": null,
            "grid_auto_rows": null,
            "grid_column": null,
            "grid_gap": null,
            "grid_row": null,
            "grid_template_areas": null,
            "grid_template_columns": null,
            "grid_template_rows": null,
            "height": null,
            "justify_content": null,
            "justify_items": null,
            "left": null,
            "margin": null,
            "max_height": null,
            "max_width": null,
            "min_height": null,
            "min_width": null,
            "object_fit": null,
            "object_position": null,
            "order": null,
            "overflow": null,
            "overflow_x": null,
            "overflow_y": null,
            "padding": null,
            "right": null,
            "top": null,
            "visibility": null,
            "width": null
          }
        },
        "3ae695c5c1c54b1985bb08990a482b96": {
          "model_module": "@jupyter-widgets/controls",
          "model_name": "DescriptionStyleModel",
          "model_module_version": "1.5.0",
          "state": {
            "_model_module": "@jupyter-widgets/controls",
            "_model_module_version": "1.5.0",
            "_model_name": "DescriptionStyleModel",
            "_view_count": null,
            "_view_module": "@jupyter-widgets/base",
            "_view_module_version": "1.2.0",
            "_view_name": "StyleView",
            "description_width": ""
          }
        },
        "a18fb725260d40f691578af20f2fce3b": {
          "model_module": "@jupyter-widgets/base",
          "model_name": "LayoutModel",
          "model_module_version": "1.2.0",
          "state": {
            "_model_module": "@jupyter-widgets/base",
            "_model_module_version": "1.2.0",
            "_model_name": "LayoutModel",
            "_view_count": null,
            "_view_module": "@jupyter-widgets/base",
            "_view_module_version": "1.2.0",
            "_view_name": "LayoutView",
            "align_content": null,
            "align_items": null,
            "align_self": null,
            "border": null,
            "bottom": null,
            "display": null,
            "flex": null,
            "flex_flow": null,
            "grid_area": null,
            "grid_auto_columns": null,
            "grid_auto_flow": null,
            "grid_auto_rows": null,
            "grid_column": null,
            "grid_gap": null,
            "grid_row": null,
            "grid_template_areas": null,
            "grid_template_columns": null,
            "grid_template_rows": null,
            "height": null,
            "justify_content": null,
            "justify_items": null,
            "left": null,
            "margin": null,
            "max_height": null,
            "max_width": null,
            "min_height": null,
            "min_width": null,
            "object_fit": null,
            "object_position": null,
            "order": null,
            "overflow": null,
            "overflow_x": null,
            "overflow_y": null,
            "padding": null,
            "right": null,
            "top": null,
            "visibility": null,
            "width": null
          }
        },
        "d231ff1190a74b27b36997f7e4551945": {
          "model_module": "@jupyter-widgets/controls",
          "model_name": "ProgressStyleModel",
          "model_module_version": "1.5.0",
          "state": {
            "_model_module": "@jupyter-widgets/controls",
            "_model_module_version": "1.5.0",
            "_model_name": "ProgressStyleModel",
            "_view_count": null,
            "_view_module": "@jupyter-widgets/base",
            "_view_module_version": "1.2.0",
            "_view_name": "StyleView",
            "bar_color": null,
            "description_width": ""
          }
        },
        "b6a39de23da8450985bee74d254a8ce8": {
          "model_module": "@jupyter-widgets/base",
          "model_name": "LayoutModel",
          "model_module_version": "1.2.0",
          "state": {
            "_model_module": "@jupyter-widgets/base",
            "_model_module_version": "1.2.0",
            "_model_name": "LayoutModel",
            "_view_count": null,
            "_view_module": "@jupyter-widgets/base",
            "_view_module_version": "1.2.0",
            "_view_name": "LayoutView",
            "align_content": null,
            "align_items": null,
            "align_self": null,
            "border": null,
            "bottom": null,
            "display": null,
            "flex": null,
            "flex_flow": null,
            "grid_area": null,
            "grid_auto_columns": null,
            "grid_auto_flow": null,
            "grid_auto_rows": null,
            "grid_column": null,
            "grid_gap": null,
            "grid_row": null,
            "grid_template_areas": null,
            "grid_template_columns": null,
            "grid_template_rows": null,
            "height": null,
            "justify_content": null,
            "justify_items": null,
            "left": null,
            "margin": null,
            "max_height": null,
            "max_width": null,
            "min_height": null,
            "min_width": null,
            "object_fit": null,
            "object_position": null,
            "order": null,
            "overflow": null,
            "overflow_x": null,
            "overflow_y": null,
            "padding": null,
            "right": null,
            "top": null,
            "visibility": null,
            "width": null
          }
        },
        "1c2b20b98d41478198cbf94cba32bf22": {
          "model_module": "@jupyter-widgets/controls",
          "model_name": "DescriptionStyleModel",
          "model_module_version": "1.5.0",
          "state": {
            "_model_module": "@jupyter-widgets/controls",
            "_model_module_version": "1.5.0",
            "_model_name": "DescriptionStyleModel",
            "_view_count": null,
            "_view_module": "@jupyter-widgets/base",
            "_view_module_version": "1.2.0",
            "_view_name": "StyleView",
            "description_width": ""
          }
        },
        "968e4bf9749641f28784b1901b60ace4": {
          "model_module": "@jupyter-widgets/controls",
          "model_name": "HBoxModel",
          "model_module_version": "1.5.0",
          "state": {
            "_dom_classes": [],
            "_model_module": "@jupyter-widgets/controls",
            "_model_module_version": "1.5.0",
            "_model_name": "HBoxModel",
            "_view_count": null,
            "_view_module": "@jupyter-widgets/controls",
            "_view_module_version": "1.5.0",
            "_view_name": "HBoxView",
            "box_style": "",
            "children": [
              "IPY_MODEL_7bc9e07e5c5341738684f8bca1946844",
              "IPY_MODEL_7c2f241f1f954675b98faa66000fcdc4",
              "IPY_MODEL_857c6af4fc844407bedf05985f6d6c12"
            ],
            "layout": "IPY_MODEL_a5bcd83c5426447d98514da2708a1a33"
          }
        },
        "7bc9e07e5c5341738684f8bca1946844": {
          "model_module": "@jupyter-widgets/controls",
          "model_name": "HTMLModel",
          "model_module_version": "1.5.0",
          "state": {
            "_dom_classes": [],
            "_model_module": "@jupyter-widgets/controls",
            "_model_module_version": "1.5.0",
            "_model_name": "HTMLModel",
            "_view_count": null,
            "_view_module": "@jupyter-widgets/controls",
            "_view_module_version": "1.5.0",
            "_view_name": "HTMLView",
            "description": "",
            "description_tooltip": null,
            "layout": "IPY_MODEL_b12ee403bad549dea1859dcaaf1c70c9",
            "placeholder": "​",
            "style": "IPY_MODEL_4d9531ac4f274dbbbf643b808a7e7378",
            "value": "  2%"
          }
        },
        "7c2f241f1f954675b98faa66000fcdc4": {
          "model_module": "@jupyter-widgets/controls",
          "model_name": "FloatProgressModel",
          "model_module_version": "1.5.0",
          "state": {
            "_dom_classes": [],
            "_model_module": "@jupyter-widgets/controls",
            "_model_module_version": "1.5.0",
            "_model_name": "FloatProgressModel",
            "_view_count": null,
            "_view_module": "@jupyter-widgets/controls",
            "_view_module_version": "1.5.0",
            "_view_name": "ProgressView",
            "bar_style": "",
            "description": "",
            "description_tooltip": null,
            "layout": "IPY_MODEL_e8583934646c43b783b57e6e1a3fdb7b",
            "max": 65536,
            "min": 0,
            "orientation": "horizontal",
            "style": "IPY_MODEL_2cf2509e75104798b28916ec4ee1b156",
            "value": 1168
          }
        },
        "857c6af4fc844407bedf05985f6d6c12": {
          "model_module": "@jupyter-widgets/controls",
          "model_name": "HTMLModel",
          "model_module_version": "1.5.0",
          "state": {
            "_dom_classes": [],
            "_model_module": "@jupyter-widgets/controls",
            "_model_module_version": "1.5.0",
            "_model_name": "HTMLModel",
            "_view_count": null,
            "_view_module": "@jupyter-widgets/controls",
            "_view_module_version": "1.5.0",
            "_view_name": "HTMLView",
            "description": "",
            "description_tooltip": null,
            "layout": "IPY_MODEL_2aa9bf24119c492aa677e596b8c9752a",
            "placeholder": "​",
            "style": "IPY_MODEL_84612ec420ef4ec988a7d5f0d8587989",
            "value": " 1168/65536 [00:04&lt;03:47, 282.75it/s]"
          }
        },
        "a5bcd83c5426447d98514da2708a1a33": {
          "model_module": "@jupyter-widgets/base",
          "model_name": "LayoutModel",
          "model_module_version": "1.2.0",
          "state": {
            "_model_module": "@jupyter-widgets/base",
            "_model_module_version": "1.2.0",
            "_model_name": "LayoutModel",
            "_view_count": null,
            "_view_module": "@jupyter-widgets/base",
            "_view_module_version": "1.2.0",
            "_view_name": "LayoutView",
            "align_content": null,
            "align_items": null,
            "align_self": null,
            "border": null,
            "bottom": null,
            "display": null,
            "flex": null,
            "flex_flow": null,
            "grid_area": null,
            "grid_auto_columns": null,
            "grid_auto_flow": null,
            "grid_auto_rows": null,
            "grid_column": null,
            "grid_gap": null,
            "grid_row": null,
            "grid_template_areas": null,
            "grid_template_columns": null,
            "grid_template_rows": null,
            "height": null,
            "justify_content": null,
            "justify_items": null,
            "left": null,
            "margin": null,
            "max_height": null,
            "max_width": null,
            "min_height": null,
            "min_width": null,
            "object_fit": null,
            "object_position": null,
            "order": null,
            "overflow": null,
            "overflow_x": null,
            "overflow_y": null,
            "padding": null,
            "right": null,
            "top": null,
            "visibility": null,
            "width": null
          }
        },
        "b12ee403bad549dea1859dcaaf1c70c9": {
          "model_module": "@jupyter-widgets/base",
          "model_name": "LayoutModel",
          "model_module_version": "1.2.0",
          "state": {
            "_model_module": "@jupyter-widgets/base",
            "_model_module_version": "1.2.0",
            "_model_name": "LayoutModel",
            "_view_count": null,
            "_view_module": "@jupyter-widgets/base",
            "_view_module_version": "1.2.0",
            "_view_name": "LayoutView",
            "align_content": null,
            "align_items": null,
            "align_self": null,
            "border": null,
            "bottom": null,
            "display": null,
            "flex": null,
            "flex_flow": null,
            "grid_area": null,
            "grid_auto_columns": null,
            "grid_auto_flow": null,
            "grid_auto_rows": null,
            "grid_column": null,
            "grid_gap": null,
            "grid_row": null,
            "grid_template_areas": null,
            "grid_template_columns": null,
            "grid_template_rows": null,
            "height": null,
            "justify_content": null,
            "justify_items": null,
            "left": null,
            "margin": null,
            "max_height": null,
            "max_width": null,
            "min_height": null,
            "min_width": null,
            "object_fit": null,
            "object_position": null,
            "order": null,
            "overflow": null,
            "overflow_x": null,
            "overflow_y": null,
            "padding": null,
            "right": null,
            "top": null,
            "visibility": null,
            "width": null
          }
        },
        "4d9531ac4f274dbbbf643b808a7e7378": {
          "model_module": "@jupyter-widgets/controls",
          "model_name": "DescriptionStyleModel",
          "model_module_version": "1.5.0",
          "state": {
            "_model_module": "@jupyter-widgets/controls",
            "_model_module_version": "1.5.0",
            "_model_name": "DescriptionStyleModel",
            "_view_count": null,
            "_view_module": "@jupyter-widgets/base",
            "_view_module_version": "1.2.0",
            "_view_name": "StyleView",
            "description_width": ""
          }
        },
        "e8583934646c43b783b57e6e1a3fdb7b": {
          "model_module": "@jupyter-widgets/base",
          "model_name": "LayoutModel",
          "model_module_version": "1.2.0",
          "state": {
            "_model_module": "@jupyter-widgets/base",
            "_model_module_version": "1.2.0",
            "_model_name": "LayoutModel",
            "_view_count": null,
            "_view_module": "@jupyter-widgets/base",
            "_view_module_version": "1.2.0",
            "_view_name": "LayoutView",
            "align_content": null,
            "align_items": null,
            "align_self": null,
            "border": null,
            "bottom": null,
            "display": null,
            "flex": null,
            "flex_flow": null,
            "grid_area": null,
            "grid_auto_columns": null,
            "grid_auto_flow": null,
            "grid_auto_rows": null,
            "grid_column": null,
            "grid_gap": null,
            "grid_row": null,
            "grid_template_areas": null,
            "grid_template_columns": null,
            "grid_template_rows": null,
            "height": null,
            "justify_content": null,
            "justify_items": null,
            "left": null,
            "margin": null,
            "max_height": null,
            "max_width": null,
            "min_height": null,
            "min_width": null,
            "object_fit": null,
            "object_position": null,
            "order": null,
            "overflow": null,
            "overflow_x": null,
            "overflow_y": null,
            "padding": null,
            "right": null,
            "top": null,
            "visibility": null,
            "width": null
          }
        },
        "2cf2509e75104798b28916ec4ee1b156": {
          "model_module": "@jupyter-widgets/controls",
          "model_name": "ProgressStyleModel",
          "model_module_version": "1.5.0",
          "state": {
            "_model_module": "@jupyter-widgets/controls",
            "_model_module_version": "1.5.0",
            "_model_name": "ProgressStyleModel",
            "_view_count": null,
            "_view_module": "@jupyter-widgets/base",
            "_view_module_version": "1.2.0",
            "_view_name": "StyleView",
            "bar_color": null,
            "description_width": ""
          }
        },
        "2aa9bf24119c492aa677e596b8c9752a": {
          "model_module": "@jupyter-widgets/base",
          "model_name": "LayoutModel",
          "model_module_version": "1.2.0",
          "state": {
            "_model_module": "@jupyter-widgets/base",
            "_model_module_version": "1.2.0",
            "_model_name": "LayoutModel",
            "_view_count": null,
            "_view_module": "@jupyter-widgets/base",
            "_view_module_version": "1.2.0",
            "_view_name": "LayoutView",
            "align_content": null,
            "align_items": null,
            "align_self": null,
            "border": null,
            "bottom": null,
            "display": null,
            "flex": null,
            "flex_flow": null,
            "grid_area": null,
            "grid_auto_columns": null,
            "grid_auto_flow": null,
            "grid_auto_rows": null,
            "grid_column": null,
            "grid_gap": null,
            "grid_row": null,
            "grid_template_areas": null,
            "grid_template_columns": null,
            "grid_template_rows": null,
            "height": null,
            "justify_content": null,
            "justify_items": null,
            "left": null,
            "margin": null,
            "max_height": null,
            "max_width": null,
            "min_height": null,
            "min_width": null,
            "object_fit": null,
            "object_position": null,
            "order": null,
            "overflow": null,
            "overflow_x": null,
            "overflow_y": null,
            "padding": null,
            "right": null,
            "top": null,
            "visibility": null,
            "width": null
          }
        },
        "84612ec420ef4ec988a7d5f0d8587989": {
          "model_module": "@jupyter-widgets/controls",
          "model_name": "DescriptionStyleModel",
          "model_module_version": "1.5.0",
          "state": {
            "_model_module": "@jupyter-widgets/controls",
            "_model_module_version": "1.5.0",
            "_model_name": "DescriptionStyleModel",
            "_view_count": null,
            "_view_module": "@jupyter-widgets/base",
            "_view_module_version": "1.2.0",
            "_view_name": "StyleView",
            "description_width": ""
          }
        }
      }
    }
  },
  "nbformat": 4,
  "nbformat_minor": 5
}