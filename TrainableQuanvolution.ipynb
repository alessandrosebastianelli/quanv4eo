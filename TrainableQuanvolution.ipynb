{
 "cells": [
  {
   "cell_type": "code",
   "execution_count": 46,
   "id": "1912a577-237c-4fc3-8817-e2528497f4a6",
   "metadata": {},
   "outputs": [],
   "source": [
    "from layers.QonvLayer import QonvLayer\n",
    "from torch import nn\n",
    "import torchvision\n",
    "import torch\n",
    "from tqdm.auto import tqdm\n",
    "from sklearn.metrics import accuracy_score"
   ]
  },
  {
   "cell_type": "code",
   "execution_count": 11,
   "id": "4bba34b6-25e1-4de1-9003-42c019dcc01c",
   "metadata": {},
   "outputs": [],
   "source": [
    "qonv = QonvLayer(kernel_size = 4, circuit_layers=2, n_rotations=16, wires = 16, out_channels=16, stride=3)"
   ]
  },
  {
   "cell_type": "code",
   "execution_count": 12,
   "id": "c720a56f-5547-4e48-9462-9dd595cc85b8",
   "metadata": {},
   "outputs": [
    {
     "data": {
      "text/plain": [
       "torch.Size([10, 21, 21, 16])"
      ]
     },
     "execution_count": 12,
     "metadata": {},
     "output_type": "execute_result"
    }
   ],
   "source": [
    "x = torch.rand(size=(10,64,64,3))\n",
    "qonv(x).shape"
   ]
  },
  {
   "cell_type": "code",
   "execution_count": 15,
   "id": "7ae69da1-3da2-4fa5-a83f-4d7fac22c5b5",
   "metadata": {},
   "outputs": [],
   "source": [
    "model = torch.nn.Sequential(\n",
    "        QonvLayer(kernel_size = 4, circuit_layers=2, n_rotations=4, wires = 16, out_channels=16, stride=3),\n",
    "        torch.nn.Flatten(),\n",
    "        torch.nn.Linear(in_features=21*21*16, out_features=10)\n",
    "    )\n",
    "\n",
    "model.train()\n",
    "optimizer = torch.optim.Adam(params=model.parameters(), lr=0.01)\n",
    "criterion = torch.nn.CrossEntropyLoss()"
   ]
  },
  {
   "cell_type": "code",
   "execution_count": 41,
   "id": "7ee03530-ef65-4db0-94ea-7027a9df61f5",
   "metadata": {},
   "outputs": [
    {
     "data": {
      "application/vnd.jupyter.widget-view+json": {
       "model_id": "c47694469c754ad58b21386b1702d028",
       "version_major": 2,
       "version_minor": 0
      },
      "text/plain": [
       "  0%|          | 0/10 [00:00<?, ?it/s]"
      ]
     },
     "metadata": {},
     "output_type": "display_data"
    }
   ],
   "source": [
    "import matplotlib.pyplot as plt\n",
    "import numpy as np\n",
    "import glob\n",
    "import os\n",
    "\n",
    "images, labels, classes = [], [], []\n",
    "\n",
    "class_folders = glob.glob(os.path.join('datasets/EuroSAT', '*'))\n",
    "class_folders.sort()\n",
    "\n",
    "for i, c in enumerate(tqdm(class_folders)):\n",
    "    classes.append(c.split(os.sep)[-1])\n",
    "    for _, ip in enumerate(glob.glob(os.path.join(c, '*'))):\n",
    "        img = plt.imread(ip)/255.0\n",
    "        #img = torch.from_numpy(x).float()\n",
    "        images.append(img)\n",
    "        labels.append(i)\n",
    "        \n",
    "images = np.array(images)\n",
    "labels = np.array(labels)\n",
    "images = torch.Tensor(images)\n",
    "labels = torch.Tensor(labels).type(torch.LongTensor)"
   ]
  },
  {
   "cell_type": "code",
   "execution_count": null,
   "id": "b4496dda-856e-4b8e-926a-8ee8ef51239a",
   "metadata": {},
   "outputs": [
    {
     "name": "stdout",
     "output_type": "stream",
     "text": [
      "Epoch: 0 \tStep: 0 \tAccuracy: 1.0 \tLoss: 1.3947383195045404e-05\n",
      "Gradients Layer 0:\n",
      "tensor([[-6.2341e-06, -2.3557e-05, -6.1270e-06,  9.1177e-14],\n",
      "        [-2.3834e-05, -5.3291e-15, -1.1319e-06, -1.1013e-13]])\n",
      "---------------------------------------\n",
      "Epoch: 0 \tStep: 0 \tAccuracy: 1.0 \tLoss: 1.1205665941815823e-06\n",
      "Gradients Layer 0:\n",
      "tensor([[-5.5204e-07, -2.0884e-06, -5.4455e-07,  4.5103e-15],\n",
      "        [-2.1321e-06, -3.3529e-14, -9.0502e-08,  4.2188e-15]])\n",
      "---------------------------------------\n",
      "Epoch: 0 \tStep: 0 \tAccuracy: 1.0 \tLoss: 2.384185648907078e-08\n",
      "Gradients Layer 0:\n",
      "tensor([[-3.8039e-08, -1.5801e-07, -4.1634e-08,  3.8923e-16],\n",
      "        [-1.7503e-07,  9.4369e-16,  1.9804e-09, -1.0408e-15]])\n",
      "---------------------------------------\n"
     ]
    },
    {
     "name": "stderr",
     "output_type": "stream",
     "text": [
      "[E thread_pool.cpp:113] Exception in thread pool task: mutex lock failed: Invalid argument\n"
     ]
    }
   ],
   "source": [
    "epochs = 1\n",
    "batch_size = 10\n",
    "\n",
    "for epoch in range(epochs):\n",
    "    # remember to shuffle    \n",
    "    for j in range((len(labels)//batch_size) - batch_size):\n",
    "        x = images[j*batch_size:(j+1)*batch_size, ...]\n",
    "        y = labels[j*batch_size:(j+1)*batch_size, ...]\n",
    "        \n",
    "        # reset optimizer\n",
    "        optimizer.zero_grad()\n",
    "\n",
    "        # engage\n",
    "        y_pred = model(x)\n",
    "\n",
    "        # error, gradients and optimization\n",
    "        loss = criterion(y_pred, y)  \n",
    "        loss.backward()\n",
    "        optimizer.step()\n",
    "\n",
    "        # output\n",
    "        acc = accuracy_score(y, y_pred.argmax(-1).numpy())       \n",
    "\n",
    "        print(\"Epoch:\", epoch, \"\\tStep:\", j, \"\\tAccuracy:\", acc, \"\\tLoss:\", loss.item())\n",
    "        #print(\"Gradients Layer 0:\")\n",
    "        #print(model[0].circuit.weights.grad)\n",
    "\n",
    "        #if i % 5 == 0:\n",
    "        #    model[0].draw()\n",
    "\n",
    "        print(\"---------------------------------------\")\n",
    "\n",
    "        # early break\n",
    "        #if i > 0 and i % 10 == 0:\n",
    "        #    break"
   ]
  },
  {
   "cell_type": "code",
   "execution_count": null,
   "id": "e30bf4aa-00da-4cd7-8a18-b40f56da94e4",
   "metadata": {},
   "outputs": [],
   "source": [
    "y_pred"
   ]
  },
  {
   "cell_type": "code",
   "execution_count": null,
   "id": "f45f06d1-51cd-4189-8782-a84301197f50",
   "metadata": {},
   "outputs": [],
   "source": []
  }
 ],
 "metadata": {
  "kernelspec": {
   "display_name": "Python 3 (ipykernel)",
   "language": "python",
   "name": "python3"
  },
  "language_info": {
   "codemirror_mode": {
    "name": "ipython",
    "version": 3
   },
   "file_extension": ".py",
   "mimetype": "text/x-python",
   "name": "python",
   "nbconvert_exporter": "python",
   "pygments_lexer": "ipython3",
   "version": "3.10.6"
  }
 },
 "nbformat": 4,
 "nbformat_minor": 5
}
