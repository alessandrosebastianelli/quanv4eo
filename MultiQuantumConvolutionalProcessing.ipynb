{
 "cells": [
  {
   "cell_type": "markdown",
   "id": "59420117",
   "metadata": {},
   "source": [
    "# Quantum Convolutional Processing of the Dataset\n",
    "\n",
    "This notebook contains all the rutines to apply quantum convolution to an entire dataset. The script will:\n",
    "\n",
    "1. Load the dataset and print some statistics\n",
    "2. Create a quantum cicuit\n",
    "3. Define a quantum convolutional layer\n",
    "4. Apply the quantum convolutional layer to the entire dataset and save a new version of the dataset"
   ]
  },
  {
   "cell_type": "code",
   "execution_count": null,
   "id": "c8c30cdc",
   "metadata": {},
   "outputs": [],
   "source": [
    "from data.datahandler import datahandler\n",
    "from data.datareader import datareader\n",
    "from layers.QConv2D import QConv2D\n",
    "from utils import test_loader\n",
    "from utils.plotter import *\n",
    "\n",
    "import matplotlib.pyplot as plt\n",
    "from tqdm.auto import tqdm\n",
    "import pennylane as qml\n",
    "import numpy as np\n",
    "import os\n",
    "\n",
    "import jax; jax.config.update('jax_platform_name', 'cpu')\n",
    "\n",
    "import warnings\n",
    "\n",
    "def fxn():\n",
    "    warnings.warn(\"deprecated\", DeprecationWarning)\n",
    "\n",
    "with warnings.catch_warnings():\n",
    "    warnings.simplefilter(\"ignore\")\n",
    "    fxn()\n",
    "\n",
    "%load_ext autoreload\n",
    "%autoreload 2\n",
    "%matplotlib inline"
   ]
  },
  {
   "cell_type": "markdown",
   "id": "26e03f02",
   "metadata": {},
   "source": [
    "## Load dataset\n",
    "\n",
    "Instructions\n",
    "1. the dataset should be placed in the working directory, specifically in the **datasets** folder.\n",
    "2. the dataset should be already divided into classes, one-subfolder for earch classes. The folder/class name will be used to encode the label\n",
    "\n",
    "```\n",
    "QuantumCNN\n",
    "│   README.md\n",
    "│   requirements.txt    \n",
    "│\n",
    "└───circuits\n",
    "└───...\n",
    "└───datasets\n",
    "    └───EuroSAT\n",
    "        └───Highway\n",
    "                highway1.jpg\n",
    "                highway2.jpg                \n",
    "        └─── ....\n",
    "        └───Lake\n",
    "                lake1.jpg\n",
    "                lake2.jpg                \n",
    "\n",
    "```\n",
    "\n",
    "Given *the dataset_name*, that must be the same of the folder, the **datahandler** will take care of loading the paths of the images and collected them into a class dictionary. After a report of the dataset will be printed."
   ]
  },
  {
   "cell_type": "code",
   "execution_count": null,
   "id": "999ab4bf",
   "metadata": {},
   "outputs": [],
   "source": [
    "dataset_name = 'EuroSAT'\n",
    "root = os.path.join('datasets', dataset_name)\n",
    "dhandler = datahandler(root)\n",
    "dhandler.print_report(name=dataset_name)"
   ]
  },
  {
   "cell_type": "markdown",
   "id": "6f67f0c1",
   "metadata": {},
   "source": [
    "The **unpack** function trasforms the dataset from a dictionary to an array. It assigns also the label to each image and returns a dictionary mapping the labels with the class name"
   ]
  },
  {
   "cell_type": "code",
   "execution_count": null,
   "id": "334792f6",
   "metadata": {
    "scrolled": true
   },
   "outputs": [],
   "source": [
    "labels_mapper, x, y = dhandler.unpack(dhandler.paths)\n",
    "\n",
    "print('Labels')\n",
    "for key in labels_mapper: print('{:<30s}{}'.format(key,labels_mapper[key]))\n",
    "\n",
    "print('\\nDataset Size')\n",
    "print('{:<30s}{}'.format('Images', len(x)))\n",
    "\n",
    "print('\\nTraining Dataset samples')\n",
    "print('{:<30s}{}'.format('X Train', x[0]))\n",
    "print('{:<30s}{}'.format('X Train', y[0]))"
   ]
  },
  {
   "cell_type": "markdown",
   "id": "4f65cc63",
   "metadata": {},
   "source": [
    "Test the keras-like data loader. In this specific case the *datareader.generatorv2* is tested. It contains all the rutines to load images batch by batch (1 in this case)."
   ]
  },
  {
   "cell_type": "code",
   "execution_count": null,
   "id": "7be20c92",
   "metadata": {},
   "outputs": [],
   "source": [
    "classes = dhandler.paths.keys()\n",
    "loader  = datareader.generatorv2((x, y), (64,64,3))\n",
    "test_loader.dlv2([x,y], loader, classes)"
   ]
  },
  {
   "cell_type": "markdown",
   "id": "d16b29b1",
   "metadata": {},
   "source": [
    "## Define Quantum Circuit \n",
    "\n",
    "The quantum circuit is used by the quantum convolutional 2D layer. The quantum circuit used in this example has a fixed structure, Ry gates at the beginning, Random Layers U and Z pauli and measurement gates at the end.\n",
    "\n",
    "```\n",
    "                                                   _____\n",
    "                                    |0> ---[Ry]---|     |---[Z]---[m]\n",
    "                                    |0> ---[Ry]---|     |---[Z]---[m]\n",
    "                                    |0> ---[Ry]---|  U  |---[Z]---[m]\n",
    "                                    |0> ---[Ry]---|     |\n",
    "                                    |0> ..........|_____|\n",
    "              \n",
    "```\n",
    "\n",
    "It is defined by 6 parameters:\n",
    "\n",
    "1. *QUBITS*: is the number of qubits used, the number is related to the kernel size of convolution. The relation between these two variables is the following:\n",
    "$$QUBITS \\geq KERNEL\\_SIZE^2$$\n",
    "\n",
    "2. *KERNEL_SIZE*: defines the size of the kernel and the number of RY gates\n",
    "3. *FILTERS*: defines the number of filters produced by the Quantum Convolution\n",
    "4. *N_LAYERS*: defines the number of U random layers\n",
    "5. *STRIDE*: defines the stride used for the convolution\n",
    "6. *NUM_JOBS*: defines the number of workers for Quantum Convolutional parallelization"
   ]
  },
  {
   "cell_type": "code",
   "execution_count": null,
   "id": "7693676c",
   "metadata": {},
   "outputs": [],
   "source": [
    "QUBITS      = 16\n",
    "KERNEL_SIZE = 3\n",
    "FILTERS     = 16\n",
    "N_LAYERS    = 1\n",
    "STRIDE      = 2\n",
    "NUM_JOBS    = 16\n",
    "SEED        = 1"
   ]
  },
  {
   "cell_type": "markdown",
   "id": "3a616d8d",
   "metadata": {},
   "source": [
    "## Quantum Convolutional 2D/3D layer\n",
    "\n",
    "The quantum convolutional 2D/3D layer, uses the quantum circuit define above. As for classical convolution a chuck of the input image of kernel_size dimensions is processed by the quantum circuit that then produces the feature maps. Then as for the classical convolution stride by stride all the chucks of the image are processed.\n",
    "\n",
    "```\n",
    "_____________________________________________ Iteration 1 _____________________________________________\n",
    "\n",
    "                                                                                         Output\n",
    "                                                                                     ______________\n",
    "                                                                                    | m3 |    |    |\n",
    "                                                                                  ______________  _|\n",
    "        Input Image                                                              | m2 |    |    |  |\n",
    "    ___________________                                                        ______________  _| _|\n",
    "   | x1 | x3 |    |    |                                                    __| m1 |    |    |  |  |\n",
    "   |_|__|_|__|____|____|                                                   |  |____|____|____| _| _|\n",
    "   | x2 | x4 |    |    |                                                   |  |    |    |    |  |\n",
    "   |_|__|_|__|____|____|                                                   |  |____|____|____| _|\n",
    "   | |  | |  |    |    |                                                   |  |    |    |    | \n",
    "   |_|__|_|__|____|____|                                                   |  |____|____|____|                     \n",
    "   | |  | |  |    |    |                                                   | \n",
    "   |_|__|_|__|____|____|                                                   | \n",
    "     |    |                               Quantum Circuit                  |\n",
    "     |____|_________________________                            ___________|\n",
    "                                    |         _____            |\n",
    "                           |0> ---[Ry(x1)]---|     |---[Z]---[m1]\n",
    "                           |0> ---[Ry(x2)]---|     |---[Z]---[m2]\n",
    "                           |0> ---[Ry(x3)]---|  U  |---[Z]---[m3]\n",
    "                           |0> ---[Ry(x4)]---|_____|\n",
    "\n",
    "\n",
    "_____________________________________________ Iteration 2 _____________________________________________\n",
    "\n",
    "                                                                                         Output\n",
    "                                                                                     ______________\n",
    "                                                                                    | m3 | m6 |    |\n",
    "                                                                                  ______________  _|\n",
    "        Input Image                                                              | m2 | m5 |    |  |\n",
    "    ___________________                                                        ______________  _| _|\n",
    "   |    | x3 | x5 |    |                                                    __| m1 | m4 |    |  |  |\n",
    "   |____|_|__|_|__|____|                                                   |  |____|____|____| _| _|\n",
    "   |    | x4 | x6 |    |                                                   |  |    |    |    |  |\n",
    "   |____|_|__|_|__|____|                                                   |  |____|____|____| _|\n",
    "   |    | |  | |  |    |                                                   |  |    |    |    | \n",
    "   |____|_|__|_|__|____|                                                   |  |____|____|____|                     \n",
    "   |    | |  | |  |    |                                                   | \n",
    "   |____|_|__|_|__|____|                                                   | \n",
    "          |    |                          Quantum Circuit                  |\n",
    "          |____|____________________                            ___________|\n",
    "                                    |         _____            |\n",
    "                           |0> ---[Ry(x3)]---|     |---[Z]---[m4]\n",
    "                           |0> ---[Ry(x4)]---|     |---[Z]---[m5]\n",
    "                           |0> ---[Ry(x5)]---|  U  |---[Z]---[m6]\n",
    "                           |0> ---[Ry(x6)]---|_____|\n",
    "              \n",
    "\n",
    "\n",
    "```"
   ]
  },
  {
   "cell_type": "code",
   "execution_count": null,
   "id": "92820900",
   "metadata": {},
   "outputs": [],
   "source": [
    "circuit = 'ry' # or rx or rz or rxyz\n",
    "\n",
    "conv1 = QConv2D(\n",
    "    QUBITS,\n",
    "    FILTERS, \n",
    "    KERNEL_SIZE, \n",
    "    STRIDE, \n",
    "    parallelize = NUM_JOBS,\n",
    "    circuit = circuit\n",
    ")"
   ]
  },
  {
   "cell_type": "markdown",
   "id": "8821902d",
   "metadata": {},
   "source": [
    "Apply quantum convolution to EuroSAT data using the **datareader.generator**"
   ]
  },
  {
   "cell_type": "code",
   "execution_count": null,
   "id": "760223ab",
   "metadata": {
    "tags": []
   },
   "outputs": [],
   "source": [
    "gen = iter(datareader.generator((x, y), 1, (64,64,3)))\n",
    "for i in range(3):\n",
    "    (xi, yi) = next(gen)\n",
    "    img = xi[0]\n",
    "    out1 = conv1.apply(img, verbose = True)\n",
    "    print('{:<30s}{}'.format('Image shape', img.shape))\n",
    "    print('{:<30s}{}'.format('QuaConv2D L1 shape', out1.shape))\n",
    "    plot_result(img, out1)"
   ]
  },
  {
   "cell_type": "markdown",
   "id": "069be0ee",
   "metadata": {},
   "source": [
    "## Quantum Preprocessing of the dataset\n",
    "\n",
    "The final rutines are used to:\n",
    "\n",
    "1. create a new folder and its inner structure for the processed dataset.\n",
    "2. apply the quantum convolution to the entire dataset\n",
    "3. save the results in npy format"
   ]
  },
  {
   "cell_type": "code",
   "execution_count": null,
   "id": "4b8b6d11",
   "metadata": {
    "scrolled": true
   },
   "outputs": [],
   "source": [
    "new_name = dataset_name+'_processed_'+circuit\n",
    "\n",
    "# Create folder structures\n",
    "root2 = root.replace(dataset_name, new_name)\n",
    "for path in dhandler.paths.keys():\n",
    "    os.makedirs(os.path.join(root2, path), exist_ok=True)\n",
    "\n",
    "# Apply Quantum Convolution to the dataset\n",
    "gen = iter(datareader.generatorv2((x, y), (64,64,3)))\n",
    "for i in tqdm(range(len(x)), colour='black'):\n",
    "    (xi, yi, pi) = next(gen)\n",
    "    out1 = conv1.apply(xi, verbose=False)\n",
    "    pi = pi.replace(dataset_name, new_name)\n",
    "    pi = pi.replace('.'+pi.split('.')[-1], '.npy')\n",
    "    # Save the results\n",
    "    with open(pi, 'wb') as f:\n",
    "        np.save(f, out1)"
   ]
  },
  {
   "cell_type": "code",
   "execution_count": null,
   "id": "c339471e-5df1-4a0d-9498-2e56ace8fd62",
   "metadata": {},
   "outputs": [],
   "source": []
  }
 ],
 "metadata": {
  "kernelspec": {
   "display_name": "Python 3 (ipykernel)",
   "language": "python",
   "name": "python3"
  },
  "language_info": {
   "codemirror_mode": {
    "name": "ipython",
    "version": 3
   },
   "file_extension": ".py",
   "mimetype": "text/x-python",
   "name": "python",
   "nbconvert_exporter": "python",
   "pygments_lexer": "ipython3",
   "version": "3.10.9"
  }
 },
 "nbformat": 4,
 "nbformat_minor": 5
}
