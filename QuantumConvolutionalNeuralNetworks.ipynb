{
 "cells": [
  {
   "cell_type": "code",
   "execution_count": 4,
   "id": "04f83edd",
   "metadata": {},
   "outputs": [
    {
     "name": "stdout",
     "output_type": "stream",
     "text": [
      "The autoreload extension is already loaded. To reload it, use:\n",
      "  %reload_ext autoreload\n"
     ]
    }
   ],
   "source": [
    "from data.datahandler import datahandler\n",
    "from data.datareader import datareader\n",
    "from models.QCNN import *\n",
    "from utils import test_loader\n",
    "from utils.plotter import *\n",
    "from utils.converter import convert_labels_mapper\n",
    "\n",
    "import matplotlib.pyplot as plt\n",
    "from tqdm.auto import tqdm\n",
    "import numpy as np\n",
    "import os\n",
    "\n",
    "%load_ext autoreload\n",
    "%autoreload 2\n",
    "%matplotlib inline"
   ]
  },
  {
   "cell_type": "markdown",
   "id": "0ae0f9e3",
   "metadata": {},
   "source": [
    "## Load processed dataset\n",
    "\n",
    "Instructions\n",
    "1. the dataset should be placed in the working directory, specifically in the **datasets** folder.\n",
    "2. the dataset should be already divided into classes, one-subfolder for earch classes. The folder/class name will be used to encode the label\n",
    "\n",
    "If this script is runned after *Quantum Convolution Processing.ipynb* the folder structure should be alredy ready.\n",
    "\n",
    "```\n",
    "QuantumCNN\n",
    "│   README.md\n",
    "│   requirements.txt    \n",
    "│\n",
    "└───circuits\n",
    "└───...\n",
    "└───datasets\n",
    "    └───EuroSAT\n",
    "        └───Highway\n",
    "                highway1.jpg\n",
    "                highway2.jpg                \n",
    "        └─── ....\n",
    "        └───Lake\n",
    "                lake1.jpg\n",
    "                lake2.jpg                \n",
    "\n",
    "```\n",
    "\n",
    "Given *the dataset_name*, that must be the same of the folder, the **datahandler** will take care of loading the paths of the feature smaps and collected them into a class dictionary. After a report of the dataset will be printed."
   ]
  },
  {
   "cell_type": "code",
   "execution_count": null,
   "id": "970c33eb",
   "metadata": {},
   "outputs": [],
   "source": [
    "dataset_name = 'EuroSAT'\n",
    "root = os.path.join('datasets', dataset_name)\n",
    "dhandler = datahandler(root)\n",
    "dhandler.print_report(name=dataset_name)"
   ]
  },
  {
   "cell_type": "code",
   "execution_count": null,
   "id": "06c8f4dc",
   "metadata": {},
   "outputs": [],
   "source": [
    "train_set, val_set = dhandler.split(None, factor=0.01)\n",
    "dhandler.print_report(train_set, name=dataset_name+'-Train')\n",
    "dhandler.print_report(val_set,   name=dataset_name+'-Validation')"
   ]
  },
  {
   "cell_type": "markdown",
   "id": "cb78cc0c",
   "metadata": {},
   "source": [
    "The **unpack** function trasforms the dataset from a dictionary to an array. It assigns also the label to each image and returns a dictionary mapping the labels with the class name"
   ]
  },
  {
   "cell_type": "code",
   "execution_count": null,
   "id": "92497bed",
   "metadata": {},
   "outputs": [],
   "source": [
    "labels_mapper, x_t, y_t = dhandler.unpack(train_set)\n",
    "labels_mapper, x_v, y_v = dhandler.unpack(val_set)\n",
    "\n",
    "print('Train Set')\n",
    "print('\\nLabels')\n",
    "for key in labels_mapper: print('{:<30s}{}'.format(key,labels_mapper[key]))\n",
    "\n",
    "print('\\nDataset Size')\n",
    "print('{:<30s}{}'.format('Images', len(x_t)))\n",
    "\n",
    "print('\\nTraining Dataset samples')\n",
    "print('{:<30s}{}'.format('X Train', x_t[0]))\n",
    "print('{:<30s}{}'.format('X Train', y_t[0]))\n",
    "\n",
    "print('\\nValidation Set')\n",
    "print('\\nLabels')\n",
    "for key in labels_mapper: print('{:<30s}{}'.format(key,labels_mapper[key]))\n",
    "\n",
    "print('\\nDataset Size')\n",
    "print('{:<30s}{}'.format('Images', len(x_v)))\n",
    "\n",
    "print('\\nTraining Dataset samples')\n",
    "print('{:<30s}{}'.format('X Train', x_v[0]))\n",
    "print('{:<30s}{}'.format('X Train', y_v[0]))"
   ]
  },
  {
   "cell_type": "markdown",
   "id": "f6135847",
   "metadata": {},
   "source": [
    "Test the keras-like data loader. In this specific case the *datareader.generatorv2* is tested. It contains all the rutines to load images batch by batch (1 in this case)."
   ]
  },
  {
   "cell_type": "code",
   "execution_count": null,
   "id": "908798a6",
   "metadata": {},
   "outputs": [],
   "source": [
    "classes = dhandler.paths.keys()\n",
    "loader  = datareader.generatorv2((x_t, y_t), (31,31,16))\n",
    "test_loader.dlv2([x_t,y_t], loader, classes)"
   ]
  },
  {
   "cell_type": "code",
   "execution_count": null,
   "id": "c1aae9b8",
   "metadata": {},
   "outputs": [],
   "source": [
    "loader  = datareader.generatorv2((x_v, y_v), (31,31,16))\n",
    "test_loader.dlv2([x_v,y_v], loader, classes)"
   ]
  },
  {
   "cell_type": "code",
   "execution_count": null,
   "id": "d22482fc",
   "metadata": {
    "scrolled": true
   },
   "outputs": [],
   "source": [
    "gen = iter(datareader.generator((x_t, y_t), 1, (31,31,3), normalize='true'))\n",
    "for i in range(3):\n",
    "    (xi, yi) = next(gen)\n",
    "    feat_maps = xi[0]\n",
    "    plot_features_map(feat_maps)"
   ]
  },
  {
   "cell_type": "code",
   "execution_count": null,
   "id": "5743ff4e",
   "metadata": {
    "scrolled": true
   },
   "outputs": [],
   "source": [
    "gen = iter(datareader.generator((x_v, y_v), 1, (31,31,3), normalize='true'))\n",
    "for i in range(3):\n",
    "    (xi, yi) = next(gen)\n",
    "    feat_maps = xi[0]\n",
    "    plot_features_map(feat_maps)"
   ]
  },
  {
   "cell_type": "markdown",
   "id": "8ff64b68",
   "metadata": {},
   "source": [
    "## Hybrid Model"
   ]
  },
  {
   "cell_type": "code",
   "execution_count": 8,
   "id": "f5fcd97a",
   "metadata": {},
   "outputs": [],
   "source": [
    "from importlib import reload \n",
    "from models import QCNN\n",
    "reload(QCNN)\n",
    "\n",
    "qcnn = QCNNv1(img_shape = (31,31,3), n_classes = 10)"
   ]
  },
  {
   "cell_type": "code",
   "execution_count": 9,
   "id": "de61f931",
   "metadata": {},
   "outputs": [
    {
     "name": "stdout",
     "output_type": "stream",
     "text": [
      "Model: \"QCNNv1\"\n",
      "_________________________________________________________________\n",
      " Layer (type)                Output Shape              Param #   \n",
      "=================================================================\n",
      " input_3 (InputLayer)        [(None, 31, 31, 3)]       0         \n",
      "                                                                 \n",
      " activation_2 (Activation)   (None, 31, 31, 3)         0         \n",
      "                                                                 \n",
      " average_pooling2d_4 (Averag  (None, 30, 30, 3)        0         \n",
      " ePooling2D)                                                     \n",
      "                                                                 \n",
      " conv2d_3 (Conv2D)           (None, 28, 28, 32)        896       \n",
      "                                                                 \n",
      " average_pooling2d_5 (Averag  (None, 27, 27, 32)       0         \n",
      " ePooling2D)                                                     \n",
      "                                                                 \n",
      " conv2d_4 (Conv2D)           (None, 25, 25, 64)        18496     \n",
      "                                                                 \n",
      " average_pooling2d_6 (Averag  (None, 24, 24, 64)       0         \n",
      " ePooling2D)                                                     \n",
      "                                                                 \n",
      " conv2d_5 (Conv2D)           (None, 22, 22, 128)       73856     \n",
      "                                                                 \n",
      " average_pooling2d_7 (Averag  (None, 21, 21, 128)      0         \n",
      " ePooling2D)                                                     \n",
      "                                                                 \n",
      " flatten_1 (Flatten)         (None, 56448)             0         \n",
      "                                                                 \n",
      " dropout_4 (Dropout)         (None, 56448)             0         \n",
      "                                                                 \n",
      " dense_4 (Dense)             (None, 128)               7225472   \n",
      "                                                                 \n",
      " dropout_5 (Dropout)         (None, 128)               0         \n",
      "                                                                 \n",
      " dense_5 (Dense)             (None, 64)                8256      \n",
      "                                                                 \n",
      " dropout_6 (Dropout)         (None, 64)                0         \n",
      "                                                                 \n",
      " dense_6 (Dense)             (None, 32)                2080      \n",
      "                                                                 \n",
      " dropout_7 (Dropout)         (None, 32)                0         \n",
      "                                                                 \n",
      " dense_7 (Dense)             (None, 10)                330       \n",
      "                                                                 \n",
      "=================================================================\n",
      "Total params: 7,329,386\n",
      "Trainable params: 7,329,386\n",
      "Non-trainable params: 0\n",
      "_________________________________________________________________\n"
     ]
    }
   ],
   "source": [
    "qcnn.model.summary()"
   ]
  },
  {
   "cell_type": "code",
   "execution_count": null,
   "id": "e0688060",
   "metadata": {},
   "outputs": [],
   "source": [
    "qcnn.train_test([x_v, y_v], [x_v, y_v], convert_labels_mapper(labels_mapper), normalize = None)"
   ]
  },
  {
   "cell_type": "code",
   "execution_count": null,
   "id": "c2ea1569",
   "metadata": {},
   "outputs": [],
   "source": [
    "from importlib import reload \n",
    "from utils import plotter\n",
    "reload(plotter)\n",
    "\n",
    "plotter.plot_training('QCNNv1', display = False)"
   ]
  },
  {
   "cell_type": "code",
   "execution_count": null,
   "id": "1b412911",
   "metadata": {},
   "outputs": [],
   "source": []
  }
 ],
 "metadata": {
  "kernelspec": {
   "display_name": "Python 3 (ipykernel)",
   "language": "python",
   "name": "python3"
  },
  "language_info": {
   "codemirror_mode": {
    "name": "ipython",
    "version": 3
   },
   "file_extension": ".py",
   "mimetype": "text/x-python",
   "name": "python",
   "nbconvert_exporter": "python",
   "pygments_lexer": "ipython3",
   "version": "3.10.6"
  }
 },
 "nbformat": 4,
 "nbformat_minor": 5
}
