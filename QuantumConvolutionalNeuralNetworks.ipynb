{
 "cells": [
  {
   "cell_type": "code",
   "execution_count": null,
   "id": "04f83edd",
   "metadata": {},
   "outputs": [],
   "source": [
    "from data.datahandler import datahandler\n",
    "from data.datareader import datareader\n",
    "from models.QCNN import *\n",
    "from utils import test_loader\n",
    "from utils.plotter import *\n",
    "from utils.converter import convert_labels_mapper\n",
    "\n",
    "import matplotlib.pyplot as plt\n",
    "from tqdm.auto import tqdm\n",
    "import numpy as np\n",
    "import os\n",
    "\n",
    "%load_ext autoreload\n",
    "%autoreload 2\n",
    "%matplotlib inline"
   ]
  },
  {
   "cell_type": "markdown",
   "id": "0ae0f9e3",
   "metadata": {},
   "source": [
    "## Load processed dataset\n",
    "\n",
    "Instructions\n",
    "1. the dataset should be placed in the working directory, specifically in the **datasets** folder.\n",
    "2. the dataset should be already divided into classes, one-subfolder for earch classes. The folder/class name will be used to encode the label\n",
    "\n",
    "If this script is runned after *Quantum Convolution Processing.ipynb* the folder structure should be alredy ready.\n",
    "\n",
    "```\n",
    "QuantumCNN\n",
    "│   README.md\n",
    "│   requirements.txt    \n",
    "│\n",
    "└───circuits\n",
    "└───...\n",
    "└───datasets\n",
    "    └───EuroSAT\n",
    "        └───Highway\n",
    "                highway1.jpg\n",
    "                highway2.jpg                \n",
    "        └─── ....\n",
    "        └───Lake\n",
    "                lake1.jpg\n",
    "                lake2.jpg                \n",
    "\n",
    "```\n",
    "\n",
    "Given *the dataset_name*, that must be the same of the folder, the **datahandler** will take care of loading the paths of the feature smaps and collected them into a class dictionary. After a report of the dataset will be printed."
   ]
  },
  {
   "cell_type": "code",
   "execution_count": null,
   "id": "970c33eb",
   "metadata": {},
   "outputs": [],
   "source": [
    "dataset_name = 'EuroSAT'\n",
    "root = os.path.join('datasets', dataset_name)\n",
    "dhandler = datahandler(root)\n",
    "dhandler.print_report(name=dataset_name)"
   ]
  },
  {
   "cell_type": "code",
   "execution_count": null,
   "id": "06c8f4dc",
   "metadata": {},
   "outputs": [],
   "source": [
    "train_set, val_set = dhandler.split(None, factor=0.01)\n",
    "dhandler.print_report(train_set, name=dataset_name+'-Train')\n",
    "dhandler.print_report(val_set,   name=dataset_name+'-Validation')"
   ]
  },
  {
   "cell_type": "markdown",
   "id": "cb78cc0c",
   "metadata": {},
   "source": [
    "The **unpack** function trasforms the dataset from a dictionary to an array. It assigns also the label to each image and returns a dictionary mapping the labels with the class name"
   ]
  },
  {
   "cell_type": "code",
   "execution_count": null,
   "id": "92497bed",
   "metadata": {},
   "outputs": [],
   "source": [
    "labels_mapper, x_t, y_t = dhandler.unpack(train_set)\n",
    "labels_mapper, x_v, y_v = dhandler.unpack(val_set)\n",
    "\n",
    "print('Train Set')\n",
    "print('\\nLabels')\n",
    "for key in labels_mapper: print('{:<30s}{}'.format(key,labels_mapper[key]))\n",
    "\n",
    "print('\\nDataset Size')\n",
    "print('{:<30s}{}'.format('Images', len(x_t)))\n",
    "\n",
    "print('\\nTraining Dataset samples')\n",
    "print('{:<30s}{}'.format('X Train', x_t[0]))\n",
    "print('{:<30s}{}'.format('X Train', y_t[0]))\n",
    "\n",
    "print('\\nValidation Set')\n",
    "print('\\nLabels')\n",
    "for key in labels_mapper: print('{:<30s}{}'.format(key,labels_mapper[key]))\n",
    "\n",
    "print('\\nDataset Size')\n",
    "print('{:<30s}{}'.format('Images', len(x_v)))\n",
    "\n",
    "print('\\nTraining Dataset samples')\n",
    "print('{:<30s}{}'.format('X Train', x_v[0]))\n",
    "print('{:<30s}{}'.format('X Train', y_v[0]))"
   ]
  },
  {
   "cell_type": "markdown",
   "id": "f6135847",
   "metadata": {},
   "source": [
    "Test the keras-like data loader. In this specific case the *datareader.generatorv2* is tested. It contains all the rutines to load images batch by batch (1 in this case)."
   ]
  },
  {
   "cell_type": "code",
   "execution_count": null,
   "id": "908798a6",
   "metadata": {},
   "outputs": [],
   "source": [
    "classes = dhandler.paths.keys()\n",
    "loader  = datareader.generatorv2((x_t, y_t), (31,31,16))\n",
    "test_loader.dlv2([x_t,y_t], loader, classes)"
   ]
  },
  {
   "cell_type": "code",
   "execution_count": null,
   "id": "c1aae9b8",
   "metadata": {},
   "outputs": [],
   "source": [
    "loader  = datareader.generatorv2((x_v, y_v), (31,31,16))\n",
    "test_loader.dlv2([x_v,y_v], loader, classes)"
   ]
  },
  {
   "cell_type": "code",
   "execution_count": null,
   "id": "d22482fc",
   "metadata": {
    "scrolled": true
   },
   "outputs": [],
   "source": [
    "gen = iter(datareader.generator((x_t, y_t), 1, (31,31,3), normalize='true'))\n",
    "for i in range(3):\n",
    "    (xi, yi) = next(gen)\n",
    "    feat_maps = xi[0]\n",
    "    plot_features_map(feat_maps)"
   ]
  },
  {
   "cell_type": "code",
   "execution_count": null,
   "id": "5743ff4e",
   "metadata": {
    "scrolled": true
   },
   "outputs": [],
   "source": [
    "gen = iter(datareader.generator((x_v, y_v), 1, (31,31,3), normalize='true'))\n",
    "for i in range(3):\n",
    "    (xi, yi) = next(gen)\n",
    "    feat_maps = xi[0]\n",
    "    plot_features_map(feat_maps)"
   ]
  },
  {
   "cell_type": "markdown",
   "id": "8ff64b68",
   "metadata": {},
   "source": [
    "## Hybrid Model"
   ]
  },
  {
   "cell_type": "code",
   "execution_count": null,
   "id": "f5fcd97a",
   "metadata": {},
   "outputs": [],
   "source": [
    "from importlib import reload \n",
    "from models import QCNN\n",
    "reload(QCNN)\n",
    "\n",
    "qcnn = QCNNv1(img_shape = (31,31,3), n_classes = 10)"
   ]
  },
  {
   "cell_type": "code",
   "execution_count": null,
   "id": "de61f931",
   "metadata": {},
   "outputs": [],
   "source": [
    "qcnn.model.summary()"
   ]
  },
  {
   "cell_type": "code",
   "execution_count": null,
   "id": "e0688060",
   "metadata": {},
   "outputs": [],
   "source": [
    "qcnn.train_test([x_v, y_v], [x_v, y_v], convert_labels_mapper(labels_mapper), normalize = None)"
   ]
  },
  {
   "cell_type": "code",
   "execution_count": null,
   "id": "c2ea1569",
   "metadata": {},
   "outputs": [],
   "source": [
    "from importlib import reload \n",
    "from utils import plotter\n",
    "reload(plotter)\n",
    "\n",
    "plotter.plot_training('QCNNv1', display = False)"
   ]
  },
  {
   "cell_type": "markdown",
   "id": "e4760c56",
   "metadata": {},
   "source": [
    "# If the dataset has been processed with a different circuit for each class"
   ]
  },
  {
   "cell_type": "code",
   "execution_count": 12,
   "id": "3518bf45",
   "metadata": {},
   "outputs": [],
   "source": [
    "from data.datahandler import datahandler\n",
    "from data.datareader import datareader\n",
    "from circuits.random import ry_random\n",
    "from layers.QConv3D import QConv3D\n",
    "from layers.QConv2D import QConv2D\n",
    "from utils import test_loader\n",
    "from utils.plotter import *\n",
    "\n",
    "import matplotlib.pyplot as plt\n",
    "from tqdm.auto import tqdm\n",
    "import pennylane as qml\n",
    "import numpy as np\n",
    "import os"
   ]
  },
  {
   "cell_type": "code",
   "execution_count": 13,
   "id": "3fd4eb12",
   "metadata": {},
   "outputs": [],
   "source": [
    "QUBITS      = 9\n",
    "KERNEL_SIZE = 3\n",
    "FILTERS     = 8\n",
    "N_LAYERS    = 1\n",
    "STRIDE      = 1\n",
    "NUM_JOBS    = 8\n",
    "\n",
    "circuits = []\n",
    "for i in range(10):\n",
    "    SEED        = i\n",
    "    np.random.seed(SEED)\n",
    "    circuits.append(ry_random(QUBITS, KERNEL_SIZE, FILTERS, N_LAYERS, SEED))"
   ]
  },
  {
   "cell_type": "code",
   "execution_count": 14,
   "id": "ffd304e7",
   "metadata": {},
   "outputs": [
    {
     "name": "stdout",
     "output_type": "stream",
     "text": [
      "............................................ Circuit 0 .............................................\n",
      "\n",
      "0: ──RY(1.09)──RZ(4.06)─────────────────────┤  <Z>\n",
      "1: ──RY(0.52)──RZ(2.75)─────────────────────┤  <Z>\n",
      "2: ──RY(2.76)──RY(3.45)──RY(3.79)───────────┤  <Z>\n",
      "3: ──RY(2.99)──RX(3.42)──RX(2.66)──RY(6.05)─┤  <Z>\n",
      "4: ──RY(0.12)──RX(5.60)─────────────────────┤  <Z>\n",
      "5: ──RY(2.20)───────────╭●────────╭●────────┤  <Z>\n",
      "6: ──RY(1.80)──RZ(4.49)─│─────────╰X────────┤  <Z>\n",
      "7: ──RY(2.82)───────────╰X──────────────────┤  <Z>\n",
      "8: ──RY(2.10)───────────────────────────────┤      \n",
      "\n",
      "............................................ Circuit 1 .............................................\n",
      "\n",
      "0: ──RY(1.47)─────────────────────────────────────╭X─────────────────────┤  <Z>\n",
      "1: ──RY(3.07)─────────────────────────────────────│──────────────────────┤  <Z>\n",
      "2: ──RY(1.90)──RX(2.62)──────────────╭X───────────│──╭●──────────────────┤  <Z>\n",
      "3: ──RY(2.32)───────────╭X──RY(0.00)─│──╭X────────│──│───────────────────┤  <Z>\n",
      "4: ──RY(0.12)───────────│────────────│──╰●────────│──│──────────RY(2.49)─┤  <Z>\n",
      "5: ──RY(0.89)───────────│────────────│────────────│──╰X─────────RZ(2.17)─┤  <Z>\n",
      "6: ──RY(0.38)───────────│────────────│────────────╰●──RZ(0.92)──RX(1.17)─┤  <Z>\n",
      "7: ──RY(0.93)──RX(4.53)─╰●───────────╰●──RX(0.58)────────────────────────┤  <Z>\n",
      "8: ──RY(0.37)──RX(1.90)──────────────────────────────────────────────────┤      \n",
      "\n",
      "............................................ Circuit 2 .............................................\n",
      "\n",
      "0: ──RY(0.20)─────────────────────╭X───────────────────────────────┤  <Z>\n",
      "1: ──RY(1.12)─────────────────────│───────────────────╭●──RX(1.29)─┤  <Z>\n",
      "2: ──RY(2.96)─────────────────────│───────────────────│────────────┤  <Z>\n",
      "3: ──RY(1.19)───────────╭●────────│──────────RX(3.45)─│────────────┤  <Z>\n",
      "4: ──RY(2.40)──RY(2.74)─│─────────│───────────────────│───RY(2.08)─┤  <Z>\n",
      "5: ──RY(2.42)───────────│─────────╰●─────────RY(2.74)─│───RX(1.88)─┤  <Z>\n",
      "6: ──RY(0.95)───────────╰X────────────────────────────╰X───────────┤  <Z>\n",
      "7: ──RY(2.43)──RY(0.16)──RX(2.64)──RY(3.89)────────────────────────┤  <Z>\n",
      "8: ──RY(0.48)──────────────────────────────────────────────────────┤      \n",
      "\n",
      "............................................ Circuit 3 .............................................\n",
      "\n",
      "0: ──RY(2.76)──────────────╭●───────────╭X───────────────────────────────╭X───────────┤  <Z>\n",
      "1: ──RY(1.14)──────────────│────────────│──╭X─────────RZ(5.61)──RX(0.79)─│────────────┤  <Z>\n",
      "2: ──RY(1.58)──────────────│───RY(4.45)─│──│─────────────────────────────│───RY(0.32)─┤  <Z>\n",
      "3: ──RY(2.41)───────────╭●─│────────────│──│─────────╭X─────────RY(5.63)─│────────────┤  <Z>\n",
      "4: ──RY(2.87)───────────│──│────────────│──╰●────────│──────────RX(1.30)─│────────────┤  <Z>\n",
      "5: ──RY(2.60)──RY(3.46)─│──╰X───────────│────────────│───────────────────╰●───────────┤  <Z>\n",
      "6: ──RY(1.29)───────────│───────────────│───RY(3.21)─│────────────────────────────────┤  <Z>\n",
      "7: ──RY(1.98)───────────│───────────────│────────────╰●───────────────────────────────┤  <Z>\n",
      "8: ──RY(1.07)───────────╰X──────────────╰●──RZ(1.83)──────────────────────────────────┤      \n",
      "\n",
      "............................................ Circuit 4 .............................................\n",
      "\n",
      "0: ──RY(2.77)──RX(6.13)────────────────────╭X───────────┤  <Z>\n",
      "1: ──RY(2.52)──RX(1.36)────────────────────│───RY(1.59)─┤  <Z>\n",
      "2: ──RY(1.10)──RZ(0.04)────────────────────│────────────┤  <Z>\n",
      "3: ──RY(2.43)──RY(6.08)─╭X─╭X──RY(4.49)────│────────────┤  <Z>\n",
      "4: ──RY(2.82)───────────│──│───RZ(4.38)─╭X─│────────────┤  <Z>\n",
      "5: ──RY(2.47)───────────│──│────────────│──╰●───────────┤  <Z>\n",
      "6: ──RY(0.89)───────────╰●─│────────────╰●──────────────┤  <Z>\n",
      "7: ──RY(2.77)──────────────│───RY(6.11)─────────────────┤  <Z>\n",
      "8: ──RY(1.71)──RX(3.44)────╰●───────────────────────────┤      \n",
      "\n",
      "............................................ Circuit 5 .............................................\n",
      "\n",
      "0: ──RY(1.80)───────────╭●─────────RY(1.30)──RX(5.77)───────────┤  <Z>\n",
      "1: ──RY(2.65)───────────│──────────RY(5.47)─╭●──────────────────┤  <Z>\n",
      "2: ──RY(1.53)──RX(1.39)─│──────────RY(3.26)─│───────────────────┤  <Z>\n",
      "3: ──RY(2.55)─╭●────────╰X─────────RX(3.84)─│───────────────────┤  <Z>\n",
      "4: ──RY(1.60)─│──────────RX(3.07)───────────│───────────────────┤  <Z>\n",
      "5: ──RY(2.91)─╰X────────────────────────────│──────────RZ(1.86)─┤  <Z>\n",
      "6: ──RY(2.10)───────────────────────────────│───────────────────┤  <Z>\n",
      "7: ──RY(0.47)──RX(4.81)─────────────────────│───────────────────┤  <Z>\n",
      "8: ──RY(1.15)───────────────────────────────╰X──────────────────┤      \n",
      "\n",
      "............................................ Circuit 6 .............................................\n",
      "\n",
      "0: ──RY(0.32)──RX(0.68)──RX(2.63)───────────────────────────┤  <Z>\n",
      "1: ──RY(1.20)─────────────────────╭X────────────────────────┤  <Z>\n",
      "2: ──RY(1.60)──RX(5.61)───────────│─────────────────────────┤  <Z>\n",
      "3: ──RY(3.02)──RX(2.09)───────────│───RZ(3.74)─╭●──RZ(2.11)─┤  <Z>\n",
      "4: ──RY(1.17)─────────────────────│───RY(0.26)─│────────────┤  <Z>\n",
      "5: ──RY(0.04)─────────────────────│────────────│───RZ(3.33)─┤  <Z>\n",
      "6: ──RY(2.70)───────────╭●────────│────────────╰X───────────┤  <Z>\n",
      "7: ──RY(0.35)──RY(5.16)─│─────────│─────────────────────────┤  <Z>\n",
      "8: ──RY(1.50)───────────╰X────────╰●────────────────────────┤      \n",
      "\n",
      "............................................ Circuit 7 .............................................\n",
      "\n",
      "0: ──RY(0.51)──RY(4.55)──RY(6.14)───────────────────────────────┤  <Z>\n",
      "1: ──RY(2.04)─╭●────────────────────────────────────────────────┤  <Z>\n",
      "2: ──RY(0.79)─╰X────────╭●─────────RZ(3.38)──RX(3.15)──RX(0.45)─┤  <Z>\n",
      "3: ──RY(0.13)───────────│──────────RX(4.90)─────────────────────┤  <Z>\n",
      "4: ──RY(3.01)───────────│───────────────────╭●──────────────────┤  <Z>\n",
      "5: ──RY(0.21)─╭X────────│──────────RY(2.75)─│───────────────────┤  <Z>\n",
      "6: ──RY(1.61)─│─────────│───────────────────│──────────RX(1.69)─┤  <Z>\n",
      "7: ──RY(1.07)─│─────────╰X──────────────────│───────────────────┤  <Z>\n",
      "8: ──RY(2.07)─╰●─────────RX(0.48)───────────╰X──────────────────┤      \n",
      "\n",
      "............................................ Circuit 8 .............................................\n",
      "\n",
      "0: ──RY(2.50)──────────────────────────────────┤  <Z>\n",
      "1: ──RY(1.64)──RZ(1.46)──RX(3.28)──────────────┤  <Z>\n",
      "2: ──RY(1.45)──────────────────────────────────┤  <Z>\n",
      "3: ──RY(2.44)──RY(2.70)────────────────────────┤  <Z>\n",
      "4: ──RY(2.79)──RZ(5.46)───────────╭X───────────┤  <Z>\n",
      "5: ──RY(2.12)──RZ(0.07)───────────│────────────┤  <Z>\n",
      "6: ──RY(2.51)─────────────────────│───RZ(2.53)─┤  <Z>\n",
      "7: ──RY(2.95)──RY(5.49)──RY(6.09)─╰●───────────┤  <Z>\n",
      "8: ──RY(0.13)──RZ(3.34)────────────────────────┤      \n",
      "\n",
      "............................................ Circuit 9 .............................................\n",
      "\n",
      "0: ──RY(1.37)────────────────────────────────────────────────────────────────┤  <Z>\n",
      "1: ──RY(1.36)──RX(0.07)──RY(0.84)──RX(0.89)──RY(1.37)────────────────────────┤  <Z>\n",
      "2: ──RY(0.58)───────────╭X───────────────────────────────────────────────────┤  <Z>\n",
      "3: ──RY(1.66)───────────│───────────────────╭X───────────────────────────────┤  <Z>\n",
      "4: ──RY(1.88)─╭X────────│──────────RY(3.15)─│──────────RX(1.56)──────────────┤  <Z>\n",
      "5: ──RY(2.26)─│─────────│──────────RZ(2.63)─│────────────────────────────────┤  <Z>\n",
      "6: ──RY(0.96)─│─────────╰●──────────────────│─────────╭●─────────────────────┤  <Z>\n",
      "7: ──RY(1.27)─│─────────────────────────────╰●────────╰X────────╭●───────────┤  <Z>\n",
      "8: ──RY(2.58)─╰●─────────RX(3.12)───────────────────────────────╰X──RY(0.53)─┤      \n",
      "\n"
     ]
    }
   ],
   "source": [
    "for i, circuit in enumerate(circuits):\n",
    "    print('{:.^100}\\n'.format(' Circuit '+str(i)+' '))\n",
    "    \n",
    "    drawer = qml.draw(circuit, expansion_strategy=\"device\")\n",
    "    print(drawer(np.random.rand(QUBITS)), '\\n')"
   ]
  },
  {
   "cell_type": "code",
   "execution_count": 11,
   "id": "709bf4e8",
   "metadata": {},
   "outputs": [],
   "source": [
    "conv1 = QConv3D(\n",
    "    circuits,\n",
    "    FILTERS, \n",
    "    KERNEL_SIZE, \n",
    "    STRIDE, \n",
    "    NUM_JOBS\n",
    ")"
   ]
  },
  {
   "cell_type": "code",
   "execution_count": null,
   "id": "4b987fde",
   "metadata": {},
   "outputs": [],
   "source": []
  }
 ],
 "metadata": {
  "kernelspec": {
   "display_name": "Python 3 (ipykernel)",
   "language": "python",
   "name": "python3"
  },
  "language_info": {
   "codemirror_mode": {
    "name": "ipython",
    "version": 3
   },
   "file_extension": ".py",
   "mimetype": "text/x-python",
   "name": "python",
   "nbconvert_exporter": "python",
   "pygments_lexer": "ipython3",
   "version": "3.10.6"
  }
 },
 "nbformat": 4,
 "nbformat_minor": 5
}
