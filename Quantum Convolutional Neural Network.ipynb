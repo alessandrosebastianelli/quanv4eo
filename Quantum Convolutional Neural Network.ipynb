{
 "cells": [
  {
   "cell_type": "code",
   "execution_count": null,
   "id": "1e3f8c5a",
   "metadata": {},
   "outputs": [],
   "source": [
    "%load_ext autoreload\n",
    "%autoreload 2"
   ]
  },
  {
   "cell_type": "code",
   "execution_count": null,
   "id": "c8c30cdc",
   "metadata": {},
   "outputs": [],
   "source": [
    "from layers.QConv2D import QConv2D\n",
    "from circuits.random import ry_random\n",
    "from utils.plotter import *\n",
    "from data.datahandler import datahandler\n",
    "from data.datareader import datareader\n",
    "\n",
    "import matplotlib.pyplot as plt\n",
    "import pennylane as qml\n",
    "from tqdm.auto import tqdm\n",
    "import numpy as np\n",
    "import matplotlib.pyplot as plt\n",
    "import os"
   ]
  },
  {
   "cell_type": "markdown",
   "id": "26e03f02",
   "metadata": {},
   "source": [
    "## Load dataset"
   ]
  },
  {
   "cell_type": "code",
   "execution_count": null,
   "id": "999ab4bf",
   "metadata": {},
   "outputs": [],
   "source": [
    "dataset_name = 'EuroSAT'\n",
    "root = os.path.join('datasets', dataset_name)\n",
    "dhandler = datahandler(root)\n",
    "dhandler.print_report(name=dataset_name)"
   ]
  },
  {
   "cell_type": "code",
   "execution_count": null,
   "id": "334792f6",
   "metadata": {
    "scrolled": true
   },
   "outputs": [],
   "source": [
    "labels_mapper, x, y = dhandler.unpack(dhandler.paths)\n",
    "\n",
    "print('Dataset Size')\n",
    "print('Images   --- {}'.format(len(x)))\n",
    "\n",
    "print('\\nTraining Dataset samples')\n",
    "print('X Train --- {} '.format(x[0]))\n",
    "print('Y Train --- {} '.format(y[0]))"
   ]
  },
  {
   "cell_type": "code",
   "execution_count": null,
   "id": "612e9b3e",
   "metadata": {},
   "outputs": [],
   "source": [
    "data, metadata = datareader.load(x[0])"
   ]
  },
  {
   "cell_type": "code",
   "execution_count": null,
   "id": "302c24d4",
   "metadata": {
    "scrolled": false
   },
   "outputs": [],
   "source": [
    "(xi, yi) = next(iter(datareader.generator((x, y), 16, (64,64,3))))"
   ]
  },
  {
   "cell_type": "code",
   "execution_count": null,
   "id": "7be20c92",
   "metadata": {},
   "outputs": [],
   "source": [
    "count = np.zeros(len(y[0]))\n",
    "for i, (xi,yi,pi) in tqdm(enumerate(datareader.generatorv2((x, y), (64,64,3)))):\n",
    "    if i >= len(x):\n",
    "        break\n",
    "    \n",
    "    count[np.argmax(yi)] += 1\n",
    "\n",
    "yy = len(y[0])\n",
    "xx = np.arange(yy)\n",
    "\n",
    "fig, ax = plt.subplots(nrows=1, ncols=1, figsize=(yy, 3))\n",
    "ax.bar(xx, count)\n",
    "for i in range(len(count)):\n",
    "    ax.text(x=i, y = count[i], s= count[i], c='black')\n",
    "ax.set_xticks(xx)\n",
    "ax.set_xticklabels(labels = dhandler.paths.keys(), rotation=90)\n",
    "plt.show()\n",
    "plt.close()"
   ]
  },
  {
   "cell_type": "markdown",
   "id": "d16b29b1",
   "metadata": {},
   "source": [
    "## Define Quantum Circuit "
   ]
  },
  {
   "cell_type": "code",
   "execution_count": null,
   "id": "7693676c",
   "metadata": {},
   "outputs": [],
   "source": [
    "QUBITS      = 16\n",
    "KERNEL_SIZE = 3\n",
    "FILTERS     = 16\n",
    "N_LAYERS    = 1\n",
    "STRIDE      = 2\n",
    "NUM_JOBS    = 8"
   ]
  },
  {
   "cell_type": "code",
   "execution_count": null,
   "id": "eae41248",
   "metadata": {},
   "outputs": [],
   "source": [
    "circuit = ry_random(QUBITS, KERNEL_SIZE, FILTERS, N_LAYERS)"
   ]
  },
  {
   "cell_type": "code",
   "execution_count": null,
   "id": "934431c9",
   "metadata": {},
   "outputs": [],
   "source": [
    "drawer = qml.draw(circuit)\n",
    "print(drawer(np.random.rand(QUBITS)))"
   ]
  },
  {
   "cell_type": "markdown",
   "id": "3a616d8d",
   "metadata": {},
   "source": [
    "## Quantum Convolutional 2D layer"
   ]
  },
  {
   "cell_type": "code",
   "execution_count": null,
   "id": "92820900",
   "metadata": {},
   "outputs": [],
   "source": [
    "conv1 = QConv2D(\n",
    "    ry_random(QUBITS, KERNEL_SIZE, FILTERS, N_LAYERS),\n",
    "    FILTERS, \n",
    "    KERNEL_SIZE, \n",
    "    STRIDE, \n",
    "    NUM_JOBS\n",
    ")"
   ]
  },
  {
   "cell_type": "code",
   "execution_count": null,
   "id": "760223ab",
   "metadata": {},
   "outputs": [],
   "source": [
    "(xi, yi) = next(iter(datareader.generator((x, y), 1, (64,64,3))))\n",
    "img = xi[0]\n",
    "out1 = conv1.apply(img, verbose = True)"
   ]
  },
  {
   "cell_type": "code",
   "execution_count": null,
   "id": "fdaea277",
   "metadata": {},
   "outputs": [],
   "source": [
    "print('Image shape       ', img.shape)\n",
    "print('QuaConv2D L1 shape', out1.shape)"
   ]
  },
  {
   "cell_type": "code",
   "execution_count": null,
   "id": "9692d565",
   "metadata": {},
   "outputs": [],
   "source": [
    "plot_result(img, out1)"
   ]
  },
  {
   "cell_type": "markdown",
   "id": "7dfc5401",
   "metadata": {},
   "source": [
    "## Quantum Preprocessing of the dataset"
   ]
  },
  {
   "cell_type": "code",
   "execution_count": null,
   "id": "53622fad",
   "metadata": {},
   "outputs": [],
   "source": [
    "# Create folder structures\n",
    "root2 = root.replace(dataset_name, dataset_name+'_processed')\n",
    "for path in dhandler.paths.keys():\n",
    "    os.makedirs(os.path.join(root2, path), exist_ok=True)"
   ]
  },
  {
   "cell_type": "code",
   "execution_count": null,
   "id": "740f8ff0",
   "metadata": {
    "scrolled": true
   },
   "outputs": [],
   "source": [
    "gen = iter(datareader.generatorv2((x, y), (64,64,3)))\n",
    "\n",
    "for i in tqdm(range(len(x))):\n",
    "    (xi, yi, pi) = next(gen)\n",
    "    out1 = conv1.apply(xi, verbose=True)\n",
    "    pi = pi.replace(dataset_name, dataset_name+'_processed')\n",
    "    pi = pi.replace('.jpg', '.npy')\n",
    "    \n",
    "    with open(pi, 'wb') as f:\n",
    "        np.save(f, out1)"
   ]
  },
  {
   "cell_type": "code",
   "execution_count": null,
   "id": "45eaaa46",
   "metadata": {},
   "outputs": [],
   "source": []
  },
  {
   "cell_type": "code",
   "execution_count": null,
   "id": "96955912",
   "metadata": {},
   "outputs": [],
   "source": []
  }
 ],
 "metadata": {
  "kernelspec": {
   "display_name": "Python 3 (ipykernel)",
   "language": "python",
   "name": "python3"
  },
  "language_info": {
   "codemirror_mode": {
    "name": "ipython",
    "version": 3
   },
   "file_extension": ".py",
   "mimetype": "text/x-python",
   "name": "python",
   "nbconvert_exporter": "python",
   "pygments_lexer": "ipython3",
   "version": "3.10.6"
  }
 },
 "nbformat": 4,
 "nbformat_minor": 5
}
