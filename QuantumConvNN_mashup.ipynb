{
  "nbformat": 4,
  "nbformat_minor": 0,
  "metadata": {
    "colab": {
      "provenance": []
    },
    "kernelspec": {
      "name": "python3",
      "display_name": "Python 3"
    },
    "language_info": {
      "name": "python"
    }
  },
  "cells": [
    {
      "cell_type": "code",
      "execution_count": null,
      "metadata": {
        "id": "qBo3pgUe8vW2"
      },
      "outputs": [],
      "source": [
        "#Compatible versions\n",
        "!pip install 'jax == 0.4.3' \n",
        "!pip install 'jaxlib == 0.4.3'\n",
        "!pip install 'pennylane == 0.29.1' #latest stable version as of 7th March 2023"
      ]
    },
    {
      "cell_type": "code",
      "source": [
        "import matplotlib.pyplot as plt \n",
        "from tqdm.auto import tqdm \n",
        "from joblib import Parallel, delayed\n",
        "import jax.numpy as jnp \n",
        "import pennylane as qml \n",
        "import numpy as np \n",
        "import time\n",
        "from datetime import datetime \n",
        "from io import StringIO \n",
        "import pandas as pd \n",
        "import os \n",
        "import jax \n",
        "from jax import vmap, grad, jit \n",
        "from jax import random \n",
        "from jax.scipy.special import logsumexp\n",
        "from jax.config import config \n",
        "config.update(\"jax_enable_x64\", True) "
      ],
      "metadata": {
        "id": "JoZh2xs3-6Nk"
      },
      "execution_count": null,
      "outputs": []
    },
    {
      "cell_type": "code",
      "source": [
        "#Imports from repo \n",
        "from data.datareader import datareader \n",
        "from data.datahandler import datahandler \n",
        "from .qconfig import *"
      ],
      "metadata": {
        "id": "KYGv4BshEs-y"
      },
      "execution_count": null,
      "outputs": []
    },
    {
      "cell_type": "code",
      "source": [
        "#TODO: See if this can be improved - e.g. embedded in class\n",
        "#def unwrap_self(image, c, j, i, qubits, ksize, nlayers, circuit):. \n",
        "  #return QCNN.qconv2D2(image, c, j, i, qubits, ksize, filters, nlayers, seed, circuit)\n"
      ],
      "metadata": {
        "id": "AAKSKfuP2E9W"
      },
      "execution_count": null,
      "outputs": []
    },
    {
      "cell_type": "markdown",
      "source": [
        "Try to generate a neural network (fully connected for now) utilizing only jax (and jit) inside the QCNN class - for the trainig phase: "
      ],
      "metadata": {
        "id": "5_jJOvfflicf"
      }
    },
    {
      "cell_type": "code",
      "source": [
        "class QCNN: \n",
        "\n",
        "  ''' Quantum Convolutional NN class. \n",
        "    This class implements: \n",
        "        - 1 quantum convolutional layer along te y-axis - default: Ry \n",
        "        - n classical convolutional layers \n",
        "        - n classical dense layers.  \n",
        "    The dataset is meant to be composed by RGB data. \n",
        "    The quanvolutional layer extracts the feature maps obtained by means of quantum processing.  \n",
        "''' \n",
        "  def __init__(self, qubits, filters, kernel_size, stride, img_shape, n_classes, circuits='ry', parallelize=0, nlayers=1, seed=0, name=None) \n",
        "    \n",
        "    #Set up quantum layer params - for image processing\n",
        "    self.qubits = qubits\n",
        "    self.filters = filters \n",
        "    self.kernel_size = kernel_size \n",
        "    self.stride = stride \n",
        "    self.img_shape = img_shape \n",
        "    self.n_classes = n_classes \n",
        "    self.circuits = circuits\n",
        "    self.parallelize = parallelize \n",
        "    self.nlayers = nlayers \n",
        "    self.seed = seed\n",
        "    self.name = name \n",
        "\n",
        "    if self.name == 'None': self.name == 'QCNN' \n",
        "    #Set up training parsmeters with confug file - conv and/or dends layers\n",
        "    self.loss = qcnnv2s['loss'] \n",
        "    self.metrics = qcnnv2s['metrics']\n",
        "    self.learning_rate = qcnnv2s['learning_rate'] \n",
        "    self.dropout = qcnnv2s['dropout'] \n",
        "    self.batch_size = qcnnv2s['batch_size'] \n",
        "    self.epochs = qcnnv2s['epochs'] \n",
        "    self.es_rounds = qcnnv2s['early_stopping'] \n",
        "    self.dense = qcnnv2s['dense'] #vector of n neurons for each dense layer \n",
        "    self.conv = qcnnv2s['conv'] #vector of n filters for each convolutional layer \n",
        "    self.convolutional_kernel_size = qcnnv2s['kernel'] \n",
        "    self.convolution_stride = qcnnv2s['stride']\n",
        "    self.avg_pool_size = qcnnv2s['pool_size'] \n",
        "    self.avg_pool_stride = qcnnv2s['pool_stride'] \n",
        "\n",
        "  def apply(self, image, verbose=True): \n",
        "    results = []\n",
        "    if self.parallelize == 0: \n",
        "      results. append(self.__qconv2D(image, verbose))\n",
        "\n",
        "    results = np.moveaxis(results, 0, -1) \n",
        "    s = np.shape(results) \n",
        "    return np.reshape(results, (s[0], s[1], s[-2]*s[-1]))\n",
        "\n",
        "  @staticmethod\n",
        "  def quanvolutional_layer(self, image, verbose): #input: rgb data: output: feature maps. Computed b.m.o. quantum conv layer along ry \n",
        "    #non-parallelized a.t.m. \n",
        "    h, w, ch = image.shape \n",
        "    h_out = (h - self.kernel_size) // self.stride + 1) \n",
        "    w_out = (w - self.kernel_size) // self.stride + 1) \n",
        "    out = np.zeros((h_out, w_out, ch, self.filters)) \n",
        "\n",
        "    ctx = 0 \n",
        "    cty = 0\n",
        "    for c in tqdm(range(ch), desc='Channel', disable=not(verbose), colour='black'): \n",
        "      for j in tqdm(range(0, h-self.kernel_size, self.stride), desc='Column', leave=False, disable=not(verbose), colour='black'):\n",
        "        for i in tqdm(range(0, w-self.kernel_size, self.stride), desc='Row',leave=False, disable=not(verbose), colour='black'): \n",
        "          p = image[j_j+self.kerne_size, i:i+self.kernel_stride, c] \n",
        "          if self.circuits == 'ry': \n",
        "            q_results = ry_random(jnp.array(p.reshape(-1)), self.qubits, self.kernel_size, self.filters, self.nlayers, self.seed) \n",
        "          elif self.circuits == 'rx': \n",
        "            q_results = rx_random(jnp.array(p.reshape(-1)), self.qubits, self.kernel_size, self.filters, self.nlayers, self.seed) \n",
        "          elif self.circuits == 'rz': \n",
        "            q_results = rz_random(jnp.array(p.reshape(-1)), self.qubits, self.kernel_size, self.filters, self.nlayers, self.seed) \n",
        "          else: \n",
        "            q_results = rxyz_custom(jnp.array(p.reshape(-1)), self.qubits, self.kernel_size, self.filters, self.nlayers, self.seed) \n",
        "          q_results = np.array(q_results)\n",
        "\n",
        "          for k in range(self.filters): \n",
        "            out[cty, ctx, c, k] = q_results[k] \n",
        "\n",
        "          ctx += 1 \n",
        "        ctx = 0\n",
        "        cty += 1\n",
        "      ctx = 0\n",
        "      cty = 0   \n",
        "    out = np.mean(out, -2, keepdims=False)   \n",
        "\n",
        "    return out \n",
        "\n",
        "  #function to randomly initialize weights and biases\n",
        "  def random_layer_params(m, n, key, scale=1e-2): \n",
        "    w_key, b_key = random.split(key) \n",
        "    return scale * random.normal(w_key, (n, m)), scale * random.normal(b_key, (n,)) \n",
        "\n",
        "  def init_network_params(sizes, key): \n",
        "    keys = random.split(key, len(sizes)) \n",
        "    return [random_layer_params(m, n, k) for m, n, k in zip(sizes[:-1], sizes[1:], keys)] \n",
        "\n",
        "  def relu(x): \n",
        "    return jnp.maximum(0, x) \n",
        "\n",
        "  def predict(params, image): \n",
        "    #per-image preds \n",
        "    activations = image \n",
        "    for w, b in params[:-1]: \n",
        "      outputs = jnp.dot(w, activations) + b \n",
        "      activations = relu(outputs) \n",
        "\n",
        "    final_w, final_b = params[-1] \n",
        "    logits = jnp.dot(final_w, activations) + final_b \n",
        "    return logits \n",
        "\n",
        "  def batched_predict(predict): \n",
        "    batched_predicts = vmap(predict, in_axes=(None, 0))\n",
        "    return batched_predicts \n",
        "\n",
        "  def one_hot(x, k, dtype=jnp.float32): \n",
        "    return jnp.array(x:[:, None] == jnp.arange(k), dtype) \n",
        "\n",
        "  def accuracy(params, images, targets): \n",
        "    target_class = jnp.argmax(targets, axis=1)\n",
        "    predicted_class = jnp.argmax(batched_predict(params, images), axis=1) \n",
        "    return jnp.mean(predicted_class == target_class) \n",
        "\n",
        "  def loss(params, images, targets): \n",
        "    preds = batched_predict(params, images) \n",
        "    return jnp.mean(preds * targets) \n",
        "\n",
        "  @jit \n",
        "  def update(params, x, y): \n",
        "    grads = grad(loss)(params, x, y) \n",
        "    return [(w - step_size * dw, b - step_size * db) for (w, b), (dw, db) in zip(params, grads)]\n",
        "  \n",
        "  def get_train_batches(): \n",
        "    #TODO: get batches as feature maps \n",
        "\n",
        "  def train():\n",
        "    for epoch in range(self.epochs): \n",
        "      start_time = time.time() \n",
        "      for x, y in get_train_batches(): \n",
        "        x = jnp.reshape(x, (len(x), num_pixels)) \n",
        "        y = one_hot(y, num_labels) \n",
        "        params = update(params, x, y) \n",
        "      epoch_time = time.time() - start_time \n",
        "      train_acc = accuracy(params, train_images, train_labels) \n",
        "      test_acc = accuracy(params, test_images, test_labels) \n",
        "      print(\"epoch {} in {:0.2f} sec\".format(epoch, epoch_time)) \n",
        "      print(\"training set accuracy {}\".format(train_acc)) \n",
        "      print(\"test set accuracy {}\".format(test_acc))\n",
        "\n",
        "\n",
        "\n",
        "    \n"
      ],
      "metadata": {
        "id": "Q4y4HhC1AX1B"
      },
      "execution_count": null,
      "outputs": []
    },
    {
      "cell_type": "code",
      "source": [],
      "metadata": {
        "id": "tGpFguQ6_goc"
      },
      "execution_count": null,
      "outputs": []
    }
  ]
}